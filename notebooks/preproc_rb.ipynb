{
 "cells": [
  {
   "cell_type": "markdown",
   "id": "06555fd1",
   "metadata": {},
   "source": [
    "# Preproc pipline"
   ]
  },
  {
   "cell_type": "markdown",
   "id": "cdbb0e82",
   "metadata": {},
   "source": [
    "## Testing and steps"
   ]
  },
  {
   "cell_type": "code",
   "execution_count": 1,
   "id": "9b6637c1",
   "metadata": {},
   "outputs": [],
   "source": [
    "import pandas as pd\n",
    "import matplotlib.pyplot as plt\n",
    "import numpy as np\n",
    "import seaborn as sns"
   ]
  },
  {
   "cell_type": "code",
   "execution_count": 2,
   "id": "3f84e246",
   "metadata": {},
   "outputs": [],
   "source": [
    "df = pd.read_csv(\"random_data.csv\")\n",
    "df = df.drop(\"Unnamed: 0\", axis = 1)"
   ]
  },
  {
   "cell_type": "markdown",
   "id": "3527c927",
   "metadata": {},
   "source": [
    "### Duplicates"
   ]
  },
  {
   "cell_type": "code",
   "execution_count": 4,
   "id": "e607aef3",
   "metadata": {},
   "outputs": [
    {
     "data": {
      "text/plain": [
       "0"
      ]
     },
     "execution_count": 4,
     "metadata": {},
     "output_type": "execute_result"
    }
   ],
   "source": [
    "df.duplicated().sum()"
   ]
  },
  {
   "cell_type": "markdown",
   "id": "49d955ea",
   "metadata": {},
   "source": [
    "### Missing data"
   ]
  },
  {
   "cell_type": "code",
   "execution_count": 10,
   "id": "ba5fadc8",
   "metadata": {},
   "outputs": [
    {
     "data": {
      "text/plain": [
       "CancellationCode                   233484\n",
       "LateAircraftDelay                  191548\n",
       "SecurityDelay                      191548\n",
       "NASDelay                           191548\n",
       "WeatherDelay                       191548\n",
       "CarrierDelay                       191548\n",
       "ActualElapsedTime                    7059\n",
       "ArrDel15                             7059\n",
       "ArrivalDelayGroups                   7059\n",
       "ArrDelayMinutes                      7059\n",
       "ArrDelay                             7059\n",
       "AirTime                              7059\n",
       "ArrTime                              6577\n",
       "DepDelay                             6392\n",
       "DepDelayMinutes                      6392\n",
       "DepDel15                             6392\n",
       "DepartureDelayGroups                 6392\n",
       "DepTime                              6390\n",
       "Tail_Number                          1452\n",
       "CRSElapsedTime                          0\n",
       "Distance                                0\n",
       "Cancelled                               0\n",
       "ArrTimeBlk                              0\n",
       "DistanceGroup                           0\n",
       "Diverted                                0\n",
       "Month                                   0\n",
       "CRSArrTime                              0\n",
       "DayofMonth                              0\n",
       "CRSDepTime                              0\n",
       "DestState                               0\n",
       "DestCityName                            0\n",
       "Dest                                    0\n",
       "DestAirportID                           0\n",
       "OriginState                             0\n",
       "OriginCityName                          0\n",
       "Origin                                  0\n",
       "OriginAirportID                         0\n",
       "Flight_Number_Operating_Airline         0\n",
       "Operating_Airline                       0\n",
       "FlightDate                              0\n",
       "DayOfWeek                               0\n",
       "DepTimeBlk                              0\n",
       "dtype: int64"
      ]
     },
     "execution_count": 10,
     "metadata": {},
     "output_type": "execute_result"
    }
   ],
   "source": [
    "df.isnull().sum().sort_values(ascending=False) "
   ]
  },
  {
   "cell_type": "code",
   "execution_count": 12,
   "id": "38611a35",
   "metadata": {},
   "outputs": [
    {
     "data": {
      "text/plain": [
       "CancellationCode                   0.972850\n",
       "LateAircraftDelay                  0.798117\n",
       "SecurityDelay                      0.798117\n",
       "NASDelay                           0.798117\n",
       "WeatherDelay                       0.798117\n",
       "CarrierDelay                       0.798117\n",
       "ActualElapsedTime                  0.029413\n",
       "ArrDel15                           0.029413\n",
       "ArrivalDelayGroups                 0.029413\n",
       "ArrDelayMinutes                    0.029413\n",
       "ArrDelay                           0.029413\n",
       "AirTime                            0.029413\n",
       "ArrTime                            0.027404\n",
       "DepDelay                           0.026633\n",
       "DepDelayMinutes                    0.026633\n",
       "DepDel15                           0.026633\n",
       "DepartureDelayGroups               0.026633\n",
       "DepTime                            0.026625\n",
       "Tail_Number                        0.006050\n",
       "CRSElapsedTime                     0.000000\n",
       "Distance                           0.000000\n",
       "Cancelled                          0.000000\n",
       "ArrTimeBlk                         0.000000\n",
       "DistanceGroup                      0.000000\n",
       "Diverted                           0.000000\n",
       "Month                              0.000000\n",
       "CRSArrTime                         0.000000\n",
       "DayofMonth                         0.000000\n",
       "CRSDepTime                         0.000000\n",
       "DestState                          0.000000\n",
       "DestCityName                       0.000000\n",
       "Dest                               0.000000\n",
       "DestAirportID                      0.000000\n",
       "OriginState                        0.000000\n",
       "OriginCityName                     0.000000\n",
       "Origin                             0.000000\n",
       "OriginAirportID                    0.000000\n",
       "Flight_Number_Operating_Airline    0.000000\n",
       "Operating_Airline                  0.000000\n",
       "FlightDate                         0.000000\n",
       "DayOfWeek                          0.000000\n",
       "DepTimeBlk                         0.000000\n",
       "dtype: float64"
      ]
     },
     "execution_count": 12,
     "metadata": {},
     "output_type": "execute_result"
    }
   ],
   "source": [
    "df.isnull().sum().sort_values(ascending=False)/len(df) "
   ]
  },
  {
   "cell_type": "markdown",
   "id": "a51df41f",
   "metadata": {},
   "source": [
    "Finding: Arrival and departure times are missing values for cancelled flights. Use CSR time buckets for all analysis as this is the thing that is known before and is not messed up when loading the format. No other missing values."
   ]
  },
  {
   "cell_type": "markdown",
   "id": "6784b9c0",
   "metadata": {},
   "source": [
    "### Outliers"
   ]
  },
  {
   "cell_type": "code",
   "execution_count": 29,
   "id": "20eb14a9",
   "metadata": {},
   "outputs": [
    {
     "data": {
      "image/png": "[encoded data removed]",
      "text/plain": [
       "<Figure size 640x480 with 1 Axes>"
      ]
     },
     "metadata": {},
     "output_type": "display_data"
    }
   ],
   "source": [
    "df[[\"Distance\"]].boxplot();\n",
    "plt.show()"
   ]
  },
  {
   "cell_type": "code",
   "execution_count": 32,
   "id": "424a660d",
   "metadata": {
    "scrolled": true
   },
   "outputs": [
    {
     "data": {
      "image/png": "[encoded data removed]",
      "text/plain": [
       "<Figure size 640x480 with 1 Axes>"
      ]
     },
     "metadata": {},
     "output_type": "display_data"
    }
   ],
   "source": [
    "df[[\"CRSElapsedTime\"]].boxplot();\n",
    "plt.show()"
   ]
  },
  {
   "cell_type": "code",
   "execution_count": 3,
   "id": "5fb37c16",
   "metadata": {},
   "outputs": [
    {
     "data": {
      "text/plain": [
       "0.9826663217474899"
      ]
     },
     "execution_count": 3,
     "metadata": {},
     "output_type": "execute_result"
    }
   ],
   "source": [
    "num = df.loc[:, (\"Distance\",\"CRSElapsedTime\")]\n",
    "df[\"Distance\"].corr(df[\"CRSElapsedTime\"])"
   ]
  },
  {
   "cell_type": "markdown",
   "id": "087aab8e",
   "metadata": {},
   "source": [
    "Only two numerical features, however they are highly correlated, remove one in this case CRSElapsedTime."
   ]
  },
  {
   "cell_type": "markdown",
   "id": "460ff8ad",
   "metadata": {},
   "source": [
    "Because there are outliers, use RobustScaler for this."
   ]
  },
  {
   "cell_type": "markdown",
   "id": "cd18f1f1",
   "metadata": {},
   "source": [
    "### Target encoding & balancing"
   ]
  },
  {
   "cell_type": "code",
   "execution_count": 61,
   "id": "a4121d21",
   "metadata": {},
   "outputs": [],
   "source": [
    "df[\"BadFlight\"] = ((df['DepartureDelayGroups'] > 0) | (df['Cancelled'] > 0)).astype(int)"
   ]
  },
  {
   "cell_type": "code",
   "execution_count": 34,
   "id": "f100d989",
   "metadata": {},
   "outputs": [
    {
     "data": {
      "text/plain": [
       "DepartureDelayGroups\n",
       "1.0     0.356316\n",
       "2.0     0.189170\n",
       "3.0     0.117944\n",
       "4.0     0.077333\n",
       "5.0     0.055125\n",
       "6.0     0.041445\n",
       "7.0     0.032896\n",
       "8.0     0.024305\n",
       "9.0     0.017954\n",
       "10.0    0.014351\n",
       "11.0    0.012254\n",
       "12.0    0.060906\n",
       "Name: count, dtype: float64"
      ]
     },
     "execution_count": 34,
     "metadata": {},
     "output_type": "execute_result"
    }
   ],
   "source": [
    "delay_groups = df['DepartureDelayGroups']\n",
    "delay_groups[delay_groups>0].value_counts().sort_index()/len(delay_groups[delay_groups>0])"
   ]
  },
  {
   "cell_type": "code",
   "execution_count": 62,
   "id": "5a2dfe87",
   "metadata": {
    "scrolled": true
   },
   "outputs": [
    {
     "data": {
      "text/plain": [
       "BadFlight\n",
       "0            0.768467\n",
       "1            0.231533\n",
       "Name: count, dtype: float64"
      ]
     },
     "execution_count": 62,
     "metadata": {},
     "output_type": "execute_result"
    }
   ],
   "source": [
    "df[[\"BadFlight\"]].value_counts()/len(df)"
   ]
  },
  {
   "cell_type": "code",
   "execution_count": 63,
   "id": "a4c2aca5",
   "metadata": {},
   "outputs": [
    {
     "data": {
      "text/plain": [
       "0        -1.0\n",
       "1        -1.0\n",
       "2         4.0\n",
       "3         NaN\n",
       "4        -1.0\n",
       "         ... \n",
       "239995    0.0\n",
       "239996    5.0\n",
       "239997    3.0\n",
       "239998    0.0\n",
       "239999   -1.0\n",
       "Name: DepartureDelayGroups, Length: 240000, dtype: float64"
      ]
     },
     "execution_count": 63,
     "metadata": {},
     "output_type": "execute_result"
    }
   ],
   "source": [
    "df[\"DepartureDelayGroups\"]"
   ]
  },
  {
   "cell_type": "code",
   "execution_count": 35,
   "id": "10d27be6",
   "metadata": {},
   "outputs": [],
   "source": [
    "df[\"DepartureDelayGroups\"]=df[\"DepartureDelayGroups\"].fillna(\"Cancelled\")"
   ]
  },
  {
   "cell_type": "code",
   "execution_count": 75,
   "id": "84c9aff1",
   "metadata": {},
   "outputs": [
    {
     "data": {
      "text/plain": [
       "{1: 15,\n",
       " 2: 30,\n",
       " 3: 45,\n",
       " 4: 60,\n",
       " 5: 75,\n",
       " 6: 90,\n",
       " 7: 105,\n",
       " 8: 120,\n",
       " 9: 135,\n",
       " 10: 150,\n",
       " 11: 165,\n",
       " 12: 180}"
      ]
     },
     "execution_count": 75,
     "metadata": {},
     "output_type": "execute_result"
    }
   ],
   "source": [
    "times = {}\n",
    "for i in range(1,13):\n",
    "    times[i] = i*15\n",
    "    \n",
    "times"
   ]
  },
  {
   "cell_type": "code",
   "execution_count": 36,
   "id": "5ba2a854",
   "metadata": {},
   "outputs": [],
   "source": [
    "buckets = {\n",
    "    '_0':[-1.0, -2.0, 0],\n",
    "    '_1_Less30': [1.0, 2.0],\n",
    "    '_2_Betw30-105': [3.0, 4.0, 5.0, 6.0, 7.0],\n",
    "    '_3_Over120/Canc': [8.0, 9.0, 10.0, 11.0, 12.0, 'Cancelled']\n",
    "}\n",
    "\n",
    "def map_to_bucket(x):\n",
    "    for bucket_name,bucket_values in buckets.items():\n",
    "        if x in bucket_values:\n",
    "            return bucket_name\n",
    "\n",
    "# Map original classes to new buckets using the function\n",
    "df['Delay_Groups_y'] = df['DepartureDelayGroups'].apply(map_to_bucket)"
   ]
  },
  {
   "cell_type": "code",
   "execution_count": 37,
   "id": "2db494fc",
   "metadata": {
    "scrolled": true
   },
   "outputs": [
    {
     "data": {
      "text/plain": [
       "Delay_Groups_y \n",
       "_0                 0.768679\n",
       "_1_Less30          0.111654\n",
       "_2_Betw30-105      0.066471\n",
       "_3_Over120/Canc    0.053196\n",
       "Name: count, dtype: float64"
      ]
     },
     "execution_count": 37,
     "metadata": {},
     "output_type": "execute_result"
    }
   ],
   "source": [
    "df[['Delay_Groups_y']].value_counts()/len(df)"
   ]
  },
  {
   "cell_type": "code",
   "execution_count": null,
   "id": "e3f699a8",
   "metadata": {},
   "outputs": [],
   "source": []
  },
  {
   "cell_type": "markdown",
   "id": "8c014cad",
   "metadata": {},
   "source": [
    "Give weight to underrepresented in LogisticRegression. Use metric like sensitivity/recall. Impute more bad flights OR remove to get 50/50"
   ]
  },
  {
   "cell_type": "markdown",
   "id": "f0b8a117",
   "metadata": {},
   "source": [
    "Use LabelEncoder for the above to make them numerical when predicting."
   ]
  },
  {
   "cell_type": "code",
   "execution_count": 38,
   "id": "77c465d0",
   "metadata": {},
   "outputs": [],
   "source": [
    "y1 = df[['BadFlight']]\n",
    "y2 = df[['Delay_Groups_y']]\n",
    "y3 = df[['DepDelayMinutes']]"
   ]
  },
  {
   "cell_type": "markdown",
   "id": "8311c5b2",
   "metadata": {},
   "source": [
    "## Feature selection & bins"
   ]
  },
  {
   "cell_type": "markdown",
   "id": "8557d179",
   "metadata": {},
   "source": [
    "### Smaller groups for the departure and arrival time blocks"
   ]
  },
  {
   "cell_type": "code",
   "execution_count": 119,
   "id": "77c557ea",
   "metadata": {},
   "outputs": [],
   "source": [
    "def map_to_TimeBlk(x):\n",
    "    grouped_TimeBlk = {\n",
    "    'morning': ['0600-0659', '0700-0759', '0800-0859', '0900-0959','1000-1059', '1100-1159'],\n",
    "    'daytime': ['1200-1259','1300-1359','1400-1459','1500-1559','1600-1659','1700-1759'],\n",
    "    'night': ['1800-1859','1900-1959','2000-2059','2100-2159','2200-2259', '2300-2359','0001-0559']\n",
    "    }\n",
    "    for bucket_name,bucket_values in grouped_TimeBlk.items():\n",
    "        if x in bucket_values:\n",
    "            return bucket_name\n",
    "\n",
    "# Map original classes to new buckets using the function\n",
    "df['groups_DepTimeBlk'] = df['DepTimeBlk'].apply(map_to_TimeBlk)\n",
    "df['groups_ArrTimeBlk'] = df['ArrTimeBlk'].apply(map_to_TimeBlk)"
   ]
  },
  {
   "cell_type": "markdown",
   "id": "bf201fb1",
   "metadata": {},
   "source": [
    "### Make Month and Day of Week cyclical to capture seasonality"
   ]
  },
  {
   "cell_type": "code",
   "execution_count": 110,
   "id": "db761861",
   "metadata": {},
   "outputs": [],
   "source": [
    "df['Month_sin'] = np.sin(2 * np.pi * df['Month'] / 12)\n",
    "df['Month_cos'] = np.cos(2 * np.pi * df['Month'] / 12)\n",
    "\n",
    "df['DayOfWeek_sin'] = np.sin(2 * np.pi * df['DayOfWeek'] / 7)\n",
    "df['DayOfWeek_cos'] = np.cos(2 * np.pi * df['DayOfWeek'] / 7)"
   ]
  },
  {
   "cell_type": "markdown",
   "id": "669b59a8",
   "metadata": {},
   "source": [
    "### Select X Features"
   ]
  },
  {
   "cell_type": "code",
   "execution_count": 39,
   "id": "3df20a51",
   "metadata": {},
   "outputs": [],
   "source": [
    "# X = df.drop(columns=['Tail_Number', 'CarrierDelay', 'WeatherDelay', 'NASDelay',\n",
    "#        'SecurityDelay', 'LateAircraftDelay', 'BadFlight', 'Delay_Groups_y',\n",
    "#              'Distance', 'ArrTime', 'ArrDelay', 'ArrDelayMinutes', 'ArrDel15',\n",
    "#        'ArrivalDelayGroups','CRSDepTime', 'CRSArrTime' , 'Cancelled', 'CancellationCode',\n",
    "#        'Diverted', 'CRSElapsedTime', 'ActualElapsedTime', 'AirTime', 'DepTime', 'DepDelay',\n",
    "#        'DepDelayMinutes', 'DepDel15', 'DepartureDelayGroups', \n",
    "#         'DestCityName', 'DestState', 'OriginCityName', 'OriginState', 'DestAirportID',\n",
    "#      'Flight_Number_Operating_Airline', 'OriginAirportID','FlightDate','DayofMonth',\n",
    "#                     'DepTimeBlk', 'ArrTimeBlk', 'DayOfWeek', 'Month'])"
   ]
  },
  {
   "cell_type": "code",
   "execution_count": 68,
   "id": "74601241",
   "metadata": {},
   "outputs": [],
   "source": [
    "X = df.drop(columns=['Tail_Number', 'CarrierDelay', 'WeatherDelay', 'NASDelay',\n",
    "       'SecurityDelay', 'LateAircraftDelay', 'BadFlight', 'Delay_Groups_y',\n",
    "             'Distance', 'ArrTime', 'ArrDelay', 'ArrDelayMinutes', 'ArrDel15',\n",
    "       'ArrivalDelayGroups','CRSDepTime', 'CRSArrTime' , 'Cancelled', 'CancellationCode',\n",
    "       'Diverted', 'CRSElapsedTime', 'ActualElapsedTime', 'AirTime', 'DepTime', 'DepDelay',\n",
    "       'DepDelayMinutes', 'DepDel15', 'DepartureDelayGroups', \n",
    "        'DestCityName', 'DestState', 'OriginCityName', 'OriginState', 'DestAirportID',\n",
    "     'Flight_Number_Operating_Airline', 'OriginAirportID','FlightDate','DayofMonth'])"
   ]
  },
  {
   "cell_type": "code",
   "execution_count": 69,
   "id": "aa4f59d2",
   "metadata": {},
   "outputs": [
    {
     "data": {
      "text/plain": [
       "Index(['Month', 'DayOfWeek', 'Operating_Airline ', 'Origin', 'Dest',\n",
       "       'DepTimeBlk', 'ArrTimeBlk', 'DistanceGroup'],\n",
       "      dtype='object')"
      ]
     },
     "execution_count": 69,
     "metadata": {},
     "output_type": "execute_result"
    }
   ],
   "source": [
    "X.columns"
   ]
  },
  {
   "cell_type": "markdown",
   "id": "30d84dad",
   "metadata": {},
   "source": [
    "# Final code"
   ]
  },
  {
   "cell_type": "markdown",
   "id": "a9df4236",
   "metadata": {},
   "source": [
    "## Pipeline & encoding"
   ]
  },
  {
   "cell_type": "code",
   "execution_count": 130,
   "id": "0cd42266",
   "metadata": {},
   "outputs": [],
   "source": [
    "df = pd.read_csv(\"random_data.csv\")\n",
    "df = df.drop(\"Unnamed: 0\", axis = 1)"
   ]
  },
  {
   "cell_type": "code",
   "execution_count": 282,
   "id": "c8711d9d",
   "metadata": {
    "scrolled": true
   },
   "outputs": [],
   "source": [
    "df_2k = pd.read_csv(\"base_data_2k.csv\")\n",
    "df_2k = df_2k.drop(\"Unnamed: 0\", axis = 1)"
   ]
  },
  {
   "cell_type": "code",
   "execution_count": 131,
   "id": "9fc9be9a",
   "metadata": {},
   "outputs": [],
   "source": [
    "X = df.drop(columns=['Tail_Number', 'CarrierDelay', 'WeatherDelay', 'NASDelay',\n",
    "       'SecurityDelay', 'LateAircraftDelay',\n",
    "             'Distance', 'ArrTime', 'ArrDelay', 'ArrDelayMinutes', 'ArrDel15',\n",
    "       'ArrivalDelayGroups','CRSDepTime', 'CRSArrTime' , 'Cancelled', 'CancellationCode',\n",
    "       'Diverted', 'CRSElapsedTime', 'ActualElapsedTime', 'AirTime', 'DepTime', 'DepDelay',\n",
    "       'DepDelayMinutes', 'DepDel15', 'DepartureDelayGroups', \n",
    "        'DestCityName', 'DestState', 'OriginCityName', 'OriginState', 'DestAirportID',\n",
    "     'Flight_Number_Operating_Airline', 'OriginAirportID','FlightDate','DayofMonth'])"
   ]
  },
  {
   "cell_type": "code",
   "execution_count": 283,
   "id": "3ae9609b",
   "metadata": {},
   "outputs": [],
   "source": [
    "X_2k = df_2k.drop(columns=['Tail_Number', 'CarrierDelay', 'WeatherDelay', 'NASDelay',\n",
    "       'SecurityDelay', 'LateAircraftDelay',\n",
    "             'Distance', 'ArrTime', 'ArrDelay', 'ArrDelayMinutes', 'ArrDel15',\n",
    "       'ArrivalDelayGroups','CRSDepTime', 'CRSArrTime' , 'Cancelled', 'CancellationCode',\n",
    "       'Diverted', 'CRSElapsedTime', 'ActualElapsedTime', 'AirTime', 'DepTime', 'DepDelay',\n",
    "       'DepDelayMinutes', 'DepDel15', 'DepartureDelayGroups', \n",
    "        'DestCityName', 'DestState', 'OriginCityName', 'OriginState', 'DestAirportID',\n",
    "     'Flight_Number_Operating_Airline', 'OriginAirportID','FlightDate','DayofMonth'])"
   ]
  },
  {
   "cell_type": "code",
   "execution_count": 236,
   "id": "3ca04d56",
   "metadata": {},
   "outputs": [
    {
     "data": {
      "text/plain": [
       "Index(['Month', 'DayOfWeek', 'Operating_Airline', 'Origin', 'Dest',\n",
       "       'DepTimeBlk', 'ArrTimeBlk', 'DistanceGroup'],\n",
       "      dtype='object')"
      ]
     },
     "execution_count": 236,
     "metadata": {},
     "output_type": "execute_result"
    }
   ],
   "source": [
    "X_2k.columns"
   ]
  },
  {
   "cell_type": "code",
   "execution_count": 132,
   "id": "95c1761b",
   "metadata": {},
   "outputs": [
    {
     "data": {
      "text/plain": [
       "Index(['Month', 'DayOfWeek', 'Operating_Airline ', 'Origin', 'Dest',\n",
       "       'DepTimeBlk', 'ArrTimeBlk', 'DistanceGroup'],\n",
       "      dtype='object')"
      ]
     },
     "execution_count": 132,
     "metadata": {},
     "output_type": "execute_result"
    }
   ],
   "source": [
    "X.columns"
   ]
  },
  {
   "cell_type": "markdown",
   "id": "51d56a1a",
   "metadata": {},
   "source": [
    "### Target encoding"
   ]
  },
  {
   "cell_type": "code",
   "execution_count": 64,
   "id": "7603c4ef",
   "metadata": {},
   "outputs": [],
   "source": [
    "df[\"BadFlight\"] = ((df['DepartureDelayGroups'] > 0) | (df['Cancelled'] > 0)).astype(int)"
   ]
  },
  {
   "cell_type": "code",
   "execution_count": 65,
   "id": "b493db54",
   "metadata": {},
   "outputs": [],
   "source": [
    "df[\"DepartureDelayGroups\"]=df[\"DepartureDelayGroups\"].fillna(\"Cancelled\")\n",
    "\n",
    "buckets = {\n",
    "    '_0':[-1.0, -2.0, 0],\n",
    "    '_1_Less30': [1.0, 2.0],\n",
    "    '_2_Betw30-105': [3.0, 4.0, 5.0, 6.0, 7.0],\n",
    "    '_3_Over120/Canc': [8.0, 9.0, 10.0, 11.0, 12.0, 'Cancelled']\n",
    "}\n",
    "\n",
    "def map_to_bucket(x):\n",
    "    for bucket_name,bucket_values in buckets.items():\n",
    "        if x in bucket_values:\n",
    "            return bucket_name\n",
    "\n",
    "# Map original classes to new buckets using the function\n",
    "df['Delay_Groups_y'] = df['DepartureDelayGroups'].apply(map_to_bucket)"
   ]
  },
  {
   "cell_type": "code",
   "execution_count": 66,
   "id": "a1154a22",
   "metadata": {},
   "outputs": [],
   "source": [
    "y1 = df[['BadFlight']]\n",
    "y2 = df[['Delay_Groups_y']]\n",
    "y3 = df[['DepDelayMinutes']]"
   ]
  },
  {
   "cell_type": "markdown",
   "id": "c6091e41",
   "metadata": {},
   "source": [
    "### Feature selection & encoding preproc"
   ]
  },
  {
   "cell_type": "code",
   "execution_count": 114,
   "id": "0414e593",
   "metadata": {},
   "outputs": [],
   "source": [
    "from sklearn.compose import make_column_selector\n",
    "from sklearn.pipeline import make_pipeline\n",
    "from sklearn.pipeline import make_union\n",
    "from sklearn.compose import make_column_transformer\n",
    "from sklearn.preprocessing import FunctionTransformer\n",
    "from sklearn.preprocessing import OneHotEncoder, OrdinalEncoder\n",
    "from sklearn.base import TransformerMixin, BaseEstimator"
   ]
  },
  {
   "cell_type": "markdown",
   "id": "9701da58",
   "metadata": {},
   "source": [
    "Put everything into FunctionTransformers (the bins etc) so inputs in API will work. Test pipeline with exporting pickle and trying in new file."
   ]
  },
  {
   "cell_type": "code",
   "execution_count": 15,
   "id": "ffbfe9cc",
   "metadata": {},
   "outputs": [
    {
     "data": {
      "text/html": [
       "<div>\n",
       "<style scoped>\n",
       "    .dataframe tbody tr th:only-of-type {\n",
       "        vertical-align: middle;\n",
       "    }\n",
       "\n",
       "    .dataframe tbody tr th {\n",
       "        vertical-align: top;\n",
       "    }\n",
       "\n",
       "    .dataframe thead th {\n",
       "        text-align: right;\n",
       "    }\n",
       "</style>\n",
       "<table border=\"1\" class=\"dataframe\">\n",
       "  <thead>\n",
       "    <tr style=\"text-align: right;\">\n",
       "      <th></th>\n",
       "      <th>groups_DepTimeBlk</th>\n",
       "      <th>groups_ArrTimeBlk</th>\n",
       "    </tr>\n",
       "  </thead>\n",
       "  <tbody>\n",
       "    <tr>\n",
       "      <th>0</th>\n",
       "      <td>daytime</td>\n",
       "      <td>daytime</td>\n",
       "    </tr>\n",
       "    <tr>\n",
       "      <th>1</th>\n",
       "      <td>morning</td>\n",
       "      <td>morning</td>\n",
       "    </tr>\n",
       "    <tr>\n",
       "      <th>2</th>\n",
       "      <td>night</td>\n",
       "      <td>night</td>\n",
       "    </tr>\n",
       "    <tr>\n",
       "      <th>3</th>\n",
       "      <td>morning</td>\n",
       "      <td>morning</td>\n",
       "    </tr>\n",
       "    <tr>\n",
       "      <th>4</th>\n",
       "      <td>morning</td>\n",
       "      <td>daytime</td>\n",
       "    </tr>\n",
       "    <tr>\n",
       "      <th>...</th>\n",
       "      <td>...</td>\n",
       "      <td>...</td>\n",
       "    </tr>\n",
       "    <tr>\n",
       "      <th>239995</th>\n",
       "      <td>morning</td>\n",
       "      <td>daytime</td>\n",
       "    </tr>\n",
       "    <tr>\n",
       "      <th>239996</th>\n",
       "      <td>night</td>\n",
       "      <td>night</td>\n",
       "    </tr>\n",
       "    <tr>\n",
       "      <th>239997</th>\n",
       "      <td>daytime</td>\n",
       "      <td>daytime</td>\n",
       "    </tr>\n",
       "    <tr>\n",
       "      <th>239998</th>\n",
       "      <td>daytime</td>\n",
       "      <td>daytime</td>\n",
       "    </tr>\n",
       "    <tr>\n",
       "      <th>239999</th>\n",
       "      <td>daytime</td>\n",
       "      <td>daytime</td>\n",
       "    </tr>\n",
       "  </tbody>\n",
       "</table>\n",
       "<p>240000 rows × 2 columns</p>\n",
       "</div>"
      ],
      "text/plain": [
       "       groups_DepTimeBlk groups_ArrTimeBlk\n",
       "0                daytime           daytime\n",
       "1                morning           morning\n",
       "2                  night             night\n",
       "3                morning           morning\n",
       "4                morning           daytime\n",
       "...                  ...               ...\n",
       "239995           morning           daytime\n",
       "239996             night             night\n",
       "239997           daytime           daytime\n",
       "239998           daytime           daytime\n",
       "239999           daytime           daytime\n",
       "\n",
       "[240000 rows x 2 columns]"
      ]
     },
     "execution_count": 15,
     "metadata": {},
     "output_type": "execute_result"
    }
   ],
   "source": [
    "def map_to_TimeBlk(X):\n",
    "    grouped_TimeBlk = {\n",
    "        'morning': ['0600-0659', '0700-0759', '0800-0859', '0900-0959', '1000-1059', '1100-1159'],\n",
    "        'daytime': ['1200-1259', '1300-1359', '1400-1459', '1500-1559', '1600-1659', '1700-1759'],\n",
    "        'night': ['1800-1859', '1900-1959', '2000-2059', '2100-2159', '2200-2259', '2300-2359', '0001-0559']\n",
    "    }\n",
    "\n",
    "    # Create a new 'TimeBlock' column based on the categories\n",
    "    df['groups_DepTimeBlk'] = df['DepTimeBlk'].apply(lambda x: next((key for key, values in grouped_TimeBlk.items() if x in values), None))\n",
    "    df['groups_ArrTimeBlk'] = df['ArrTimeBlk'].apply(lambda x: next((key for key, values in grouped_TimeBlk.items() if x in values), None))\n",
    "    \n",
    "    return X[['groups_DepTimeBlk', 'groups_ArrTimeBlk']]\n",
    "\n",
    "map_to_TimeBlk(df)"
   ]
  },
  {
   "cell_type": "code",
   "execution_count": 16,
   "id": "cb02c730",
   "metadata": {},
   "outputs": [
    {
     "data": {
      "text/html": [
       "<div>\n",
       "<style scoped>\n",
       "    .dataframe tbody tr th:only-of-type {\n",
       "        vertical-align: middle;\n",
       "    }\n",
       "\n",
       "    .dataframe tbody tr th {\n",
       "        vertical-align: top;\n",
       "    }\n",
       "\n",
       "    .dataframe thead th {\n",
       "        text-align: right;\n",
       "    }\n",
       "</style>\n",
       "<table border=\"1\" class=\"dataframe\">\n",
       "  <thead>\n",
       "    <tr style=\"text-align: right;\">\n",
       "      <th></th>\n",
       "      <th>Month_sin</th>\n",
       "      <th>Month_cos</th>\n",
       "      <th>DayOfWeek_sin</th>\n",
       "      <th>DayOfWeek_cos</th>\n",
       "    </tr>\n",
       "  </thead>\n",
       "  <tbody>\n",
       "    <tr>\n",
       "      <th>0</th>\n",
       "      <td>5.000000e-01</td>\n",
       "      <td>0.866025</td>\n",
       "      <td>7.818315e-01</td>\n",
       "      <td>0.623490</td>\n",
       "    </tr>\n",
       "    <tr>\n",
       "      <th>1</th>\n",
       "      <td>5.000000e-01</td>\n",
       "      <td>0.866025</td>\n",
       "      <td>-2.449294e-16</td>\n",
       "      <td>1.000000</td>\n",
       "    </tr>\n",
       "    <tr>\n",
       "      <th>2</th>\n",
       "      <td>5.000000e-01</td>\n",
       "      <td>0.866025</td>\n",
       "      <td>-9.749279e-01</td>\n",
       "      <td>-0.222521</td>\n",
       "    </tr>\n",
       "    <tr>\n",
       "      <th>3</th>\n",
       "      <td>5.000000e-01</td>\n",
       "      <td>0.866025</td>\n",
       "      <td>-2.449294e-16</td>\n",
       "      <td>1.000000</td>\n",
       "    </tr>\n",
       "    <tr>\n",
       "      <th>4</th>\n",
       "      <td>5.000000e-01</td>\n",
       "      <td>0.866025</td>\n",
       "      <td>4.338837e-01</td>\n",
       "      <td>-0.900969</td>\n",
       "    </tr>\n",
       "    <tr>\n",
       "      <th>...</th>\n",
       "      <td>...</td>\n",
       "      <td>...</td>\n",
       "      <td>...</td>\n",
       "      <td>...</td>\n",
       "    </tr>\n",
       "    <tr>\n",
       "      <th>239995</th>\n",
       "      <td>-2.449294e-16</td>\n",
       "      <td>1.000000</td>\n",
       "      <td>9.749279e-01</td>\n",
       "      <td>-0.222521</td>\n",
       "    </tr>\n",
       "    <tr>\n",
       "      <th>239996</th>\n",
       "      <td>-2.449294e-16</td>\n",
       "      <td>1.000000</td>\n",
       "      <td>9.749279e-01</td>\n",
       "      <td>-0.222521</td>\n",
       "    </tr>\n",
       "    <tr>\n",
       "      <th>239997</th>\n",
       "      <td>-2.449294e-16</td>\n",
       "      <td>1.000000</td>\n",
       "      <td>9.749279e-01</td>\n",
       "      <td>-0.222521</td>\n",
       "    </tr>\n",
       "    <tr>\n",
       "      <th>239998</th>\n",
       "      <td>-2.449294e-16</td>\n",
       "      <td>1.000000</td>\n",
       "      <td>-2.449294e-16</td>\n",
       "      <td>1.000000</td>\n",
       "    </tr>\n",
       "    <tr>\n",
       "      <th>239999</th>\n",
       "      <td>-2.449294e-16</td>\n",
       "      <td>1.000000</td>\n",
       "      <td>7.818315e-01</td>\n",
       "      <td>0.623490</td>\n",
       "    </tr>\n",
       "  </tbody>\n",
       "</table>\n",
       "<p>240000 rows × 4 columns</p>\n",
       "</div>"
      ],
      "text/plain": [
       "           Month_sin  Month_cos  DayOfWeek_sin  DayOfWeek_cos\n",
       "0       5.000000e-01   0.866025   7.818315e-01       0.623490\n",
       "1       5.000000e-01   0.866025  -2.449294e-16       1.000000\n",
       "2       5.000000e-01   0.866025  -9.749279e-01      -0.222521\n",
       "3       5.000000e-01   0.866025  -2.449294e-16       1.000000\n",
       "4       5.000000e-01   0.866025   4.338837e-01      -0.900969\n",
       "...              ...        ...            ...            ...\n",
       "239995 -2.449294e-16   1.000000   9.749279e-01      -0.222521\n",
       "239996 -2.449294e-16   1.000000   9.749279e-01      -0.222521\n",
       "239997 -2.449294e-16   1.000000   9.749279e-01      -0.222521\n",
       "239998 -2.449294e-16   1.000000  -2.449294e-16       1.000000\n",
       "239999 -2.449294e-16   1.000000   7.818315e-01       0.623490\n",
       "\n",
       "[240000 rows x 4 columns]"
      ]
     },
     "execution_count": 16,
     "metadata": {},
     "output_type": "execute_result"
    }
   ],
   "source": [
    "def cyclical_transform_month(X):\n",
    "    X['Month_sin'] = np.sin(2 * np.pi * X['Month'] / 12)\n",
    "    X['Month_cs'] = np.cos(2 * np.pi * df['Month'] / 12)\n",
    "\n",
    "    X['DayOfWeek_sin'] = np.sin(2 * np.pi * X['DayOfWeek'] / 7)\n",
    "    X['DayOfWeek_cos'] = np.cos(2 * np.pi * X['DayOfWeek'] / 7)\n",
    "    \n",
    "    return X[['Month_sin','Month_cos', 'DayOfWeek_sin','DayOfWeek_cos']]\n",
    "\n",
    "cyclical_transform_month(df)"
   ]
  },
  {
   "cell_type": "code",
   "execution_count": 70,
   "id": "82c27da3",
   "metadata": {},
   "outputs": [
    {
     "data": {
      "text/plain": [
       "Index(['Month', 'DayOfWeek', 'Operating_Airline ', 'Origin', 'Dest',\n",
       "       'DepTimeBlk', 'ArrTimeBlk', 'DistanceGroup'],\n",
       "      dtype='object')"
      ]
     },
     "execution_count": 70,
     "metadata": {},
     "output_type": "execute_result"
    }
   ],
   "source": [
    "X.columns"
   ]
  },
  {
   "cell_type": "code",
   "execution_count": 284,
   "id": "00e25cf0",
   "metadata": {},
   "outputs": [],
   "source": [
    "class MyTrans(TransformerMixin, BaseEstimator):\n",
    "    def __init__(self):\n",
    "        pass\n",
    "    \n",
    "    def fit(self, X):\n",
    "        self.grouped_TimeBlk = {\n",
    "            'morning': ['0600-0659', '0700-0759', '0800-0859', '0900-0959', '1000-1059', '1100-1159'],\n",
    "            'daytime': ['1200-1259', '1300-1359', '1400-1459', '1500-1559', '1600-1659', '1700-1759'],\n",
    "            'night': ['1800-1859', '1900-1959', '2000-2059', '2100-2159', '2200-2259', '2300-2359', '0001-0559']\n",
    "            }\n",
    "        return self\n",
    "        \n",
    "    def transform(self, X):\n",
    "        X['Month_sin'] = np.sin(2 * np.pi * X['Month'] / 12)\n",
    "        X['Month_cos'] = np.cos(2 * np.pi * X['Month'] / 12)\n",
    "        X['DayOfWeek_sin'] = np.sin(2 * np.pi * X['DayOfWeek'] / 7)\n",
    "        X['DayOfWeek_cos'] = np.cos(2 * np.pi * X['DayOfWeek'] / 7)\n",
    "    \n",
    "        X['groups_DepTimeBlk'] = X['DepTimeBlk'].apply(lambda x: next((key for key, values in self.grouped_TimeBlk.items() if x in values), None))\n",
    "        X['groups_ArrTimeBlk'] = X['ArrTimeBlk'].apply(lambda x: next((key for key, values in self.grouped_TimeBlk.items() if x in values), None))\n",
    "        \n",
    "        X = X.drop(columns = ['DepTimeBlk', 'ArrTimeBlk', 'Month', 'DayOfWeek'])\n",
    "\n",
    "        return X\n",
    "    \n"
   ]
  },
  {
   "cell_type": "code",
   "execution_count": 241,
   "id": "6899609c",
   "metadata": {},
   "outputs": [
    {
     "data": {
      "text/html": [
       "<style>#sk-container-id-37 {color: black;}#sk-container-id-37 pre{padding: 0;}#sk-container-id-37 div.sk-toggleable {background-color: white;}#sk-container-id-37 label.sk-toggleable__label {cursor: pointer;display: block;width: 100%;margin-bottom: 0;padding: 0.3em;box-sizing: border-box;text-align: center;}#sk-container-id-37 label.sk-toggleable__label-arrow:before {content: \"▸\";float: left;margin-right: 0.25em;color: #696969;}#sk-container-id-37 label.sk-toggleable__label-arrow:hover:before {color: black;}#sk-container-id-37 div.sk-estimator:hover label.sk-toggleable__label-arrow:before {color: black;}#sk-container-id-37 div.sk-toggleable__content {max-height: 0;max-width: 0;overflow: hidden;text-align: left;background-color: #f0f8ff;}#sk-container-id-37 div.sk-toggleable__content pre {margin: 0.2em;color: black;border-radius: 0.25em;background-color: #f0f8ff;}#sk-container-id-37 input.sk-toggleable__control:checked~div.sk-toggleable__content {max-height: 200px;max-width: 100%;overflow: auto;}#sk-container-id-37 input.sk-toggleable__control:checked~label.sk-toggleable__label-arrow:before {content: \"▾\";}#sk-container-id-37 div.sk-estimator input.sk-toggleable__control:checked~label.sk-toggleable__label {background-color: #d4ebff;}#sk-container-id-37 div.sk-label input.sk-toggleable__control:checked~label.sk-toggleable__label {background-color: #d4ebff;}#sk-container-id-37 input.sk-hidden--visually {border: 0;clip: rect(1px 1px 1px 1px);clip: rect(1px, 1px, 1px, 1px);height: 1px;margin: -1px;overflow: hidden;padding: 0;position: absolute;width: 1px;}#sk-container-id-37 div.sk-estimator {font-family: monospace;background-color: #f0f8ff;border: 1px dotted black;border-radius: 0.25em;box-sizing: border-box;margin-bottom: 0.5em;}#sk-container-id-37 div.sk-estimator:hover {background-color: #d4ebff;}#sk-container-id-37 div.sk-parallel-item::after {content: \"\";width: 100%;border-bottom: 1px solid gray;flex-grow: 1;}#sk-container-id-37 div.sk-label:hover label.sk-toggleable__label {background-color: #d4ebff;}#sk-container-id-37 div.sk-serial::before {content: \"\";position: absolute;border-left: 1px solid gray;box-sizing: border-box;top: 0;bottom: 0;left: 50%;z-index: 0;}#sk-container-id-37 div.sk-serial {display: flex;flex-direction: column;align-items: center;background-color: white;padding-right: 0.2em;padding-left: 0.2em;position: relative;}#sk-container-id-37 div.sk-item {position: relative;z-index: 1;}#sk-container-id-37 div.sk-parallel {display: flex;align-items: stretch;justify-content: center;background-color: white;position: relative;}#sk-container-id-37 div.sk-item::before, #sk-container-id-37 div.sk-parallel-item::before {content: \"\";position: absolute;border-left: 1px solid gray;box-sizing: border-box;top: 0;bottom: 0;left: 50%;z-index: -1;}#sk-container-id-37 div.sk-parallel-item {display: flex;flex-direction: column;z-index: 1;position: relative;background-color: white;}#sk-container-id-37 div.sk-parallel-item:first-child::after {align-self: flex-end;width: 50%;}#sk-container-id-37 div.sk-parallel-item:last-child::after {align-self: flex-start;width: 50%;}#sk-container-id-37 div.sk-parallel-item:only-child::after {width: 0;}#sk-container-id-37 div.sk-dashed-wrapped {border: 1px dashed gray;margin: 0 0.4em 0.5em 0.4em;box-sizing: border-box;padding-bottom: 0.4em;background-color: white;}#sk-container-id-37 div.sk-label label {font-family: monospace;font-weight: bold;display: inline-block;line-height: 1.2em;}#sk-container-id-37 div.sk-label-container {text-align: center;}#sk-container-id-37 div.sk-container {/* jupyter's `normalize.less` sets `[hidden] { display: none; }` but bootstrap.min.css set `[hidden] { display: none !important; }` so we also need the `!important` here to be able to override the default hidden behavior on the sphinx rendered scikit-learn.org. See: https://github.com/scikit-learn/scikit-learn/issues/21755 */display: inline-block !important;position: relative;}#sk-container-id-37 div.sk-text-repr-fallback {display: none;}</style><div id=\"sk-container-id-37\" class=\"sk-top-container\"><div class=\"sk-text-repr-fallback\"><pre>MyTrans()</pre><b>In a Jupyter environment, please rerun this cell to show the HTML representation or trust the notebook. <br />On GitHub, the HTML representation is unable to render, please try loading this page with nbviewer.org.</b></div><div class=\"sk-container\" hidden><div class=\"sk-item\"><div class=\"sk-estimator sk-toggleable\"><input class=\"sk-toggleable__control sk-hidden--visually\" id=\"sk-estimator-id-189\" type=\"checkbox\" checked><label for=\"sk-estimator-id-189\" class=\"sk-toggleable__label sk-toggleable__label-arrow\">MyTrans</label><div class=\"sk-toggleable__content\"><pre>MyTrans()</pre></div></div></div></div></div>"
      ],
      "text/plain": [
       "MyTrans()"
      ]
     },
     "execution_count": 241,
     "metadata": {},
     "output_type": "execute_result"
    }
   ],
   "source": [
    "transformation = MyTrans()\n",
    "transformation.fit(X_2k)\n"
   ]
  },
  {
   "cell_type": "code",
   "execution_count": 244,
   "id": "e2106a58",
   "metadata": {},
   "outputs": [],
   "source": [
    "new = transformation.transform(X_2k)"
   ]
  },
  {
   "cell_type": "code",
   "execution_count": 245,
   "id": "1bb02e36",
   "metadata": {
    "scrolled": true
   },
   "outputs": [
    {
     "data": {
      "text/plain": [
       "Index(['Operating_Airline', 'Origin', 'Dest', 'DistanceGroup', 'Month_sin',\n",
       "       'Month_cos', 'DayOfWeek_sin', 'DayOfWeek_cos', 'groups_DepTimeBlk',\n",
       "       'groups_ArrTimeBlk'],\n",
       "      dtype='object')"
      ]
     },
     "execution_count": 245,
     "metadata": {},
     "output_type": "execute_result"
    }
   ],
   "source": [
    "new.columns"
   ]
  },
  {
   "cell_type": "code",
   "execution_count": 285,
   "id": "3e0d7b3b",
   "metadata": {},
   "outputs": [
    {
     "data": {
      "text/html": [
       "<style>#sk-container-id-47 {color: black;}#sk-container-id-47 pre{padding: 0;}#sk-container-id-47 div.sk-toggleable {background-color: white;}#sk-container-id-47 label.sk-toggleable__label {cursor: pointer;display: block;width: 100%;margin-bottom: 0;padding: 0.3em;box-sizing: border-box;text-align: center;}#sk-container-id-47 label.sk-toggleable__label-arrow:before {content: \"▸\";float: left;margin-right: 0.25em;color: #696969;}#sk-container-id-47 label.sk-toggleable__label-arrow:hover:before {color: black;}#sk-container-id-47 div.sk-estimator:hover label.sk-toggleable__label-arrow:before {color: black;}#sk-container-id-47 div.sk-toggleable__content {max-height: 0;max-width: 0;overflow: hidden;text-align: left;background-color: #f0f8ff;}#sk-container-id-47 div.sk-toggleable__content pre {margin: 0.2em;color: black;border-radius: 0.25em;background-color: #f0f8ff;}#sk-container-id-47 input.sk-toggleable__control:checked~div.sk-toggleable__content {max-height: 200px;max-width: 100%;overflow: auto;}#sk-container-id-47 input.sk-toggleable__control:checked~label.sk-toggleable__label-arrow:before {content: \"▾\";}#sk-container-id-47 div.sk-estimator input.sk-toggleable__control:checked~label.sk-toggleable__label {background-color: #d4ebff;}#sk-container-id-47 div.sk-label input.sk-toggleable__control:checked~label.sk-toggleable__label {background-color: #d4ebff;}#sk-container-id-47 input.sk-hidden--visually {border: 0;clip: rect(1px 1px 1px 1px);clip: rect(1px, 1px, 1px, 1px);height: 1px;margin: -1px;overflow: hidden;padding: 0;position: absolute;width: 1px;}#sk-container-id-47 div.sk-estimator {font-family: monospace;background-color: #f0f8ff;border: 1px dotted black;border-radius: 0.25em;box-sizing: border-box;margin-bottom: 0.5em;}#sk-container-id-47 div.sk-estimator:hover {background-color: #d4ebff;}#sk-container-id-47 div.sk-parallel-item::after {content: \"\";width: 100%;border-bottom: 1px solid gray;flex-grow: 1;}#sk-container-id-47 div.sk-label:hover label.sk-toggleable__label {background-color: #d4ebff;}#sk-container-id-47 div.sk-serial::before {content: \"\";position: absolute;border-left: 1px solid gray;box-sizing: border-box;top: 0;bottom: 0;left: 50%;z-index: 0;}#sk-container-id-47 div.sk-serial {display: flex;flex-direction: column;align-items: center;background-color: white;padding-right: 0.2em;padding-left: 0.2em;position: relative;}#sk-container-id-47 div.sk-item {position: relative;z-index: 1;}#sk-container-id-47 div.sk-parallel {display: flex;align-items: stretch;justify-content: center;background-color: white;position: relative;}#sk-container-id-47 div.sk-item::before, #sk-container-id-47 div.sk-parallel-item::before {content: \"\";position: absolute;border-left: 1px solid gray;box-sizing: border-box;top: 0;bottom: 0;left: 50%;z-index: -1;}#sk-container-id-47 div.sk-parallel-item {display: flex;flex-direction: column;z-index: 1;position: relative;background-color: white;}#sk-container-id-47 div.sk-parallel-item:first-child::after {align-self: flex-end;width: 50%;}#sk-container-id-47 div.sk-parallel-item:last-child::after {align-self: flex-start;width: 50%;}#sk-container-id-47 div.sk-parallel-item:only-child::after {width: 0;}#sk-container-id-47 div.sk-dashed-wrapped {border: 1px dashed gray;margin: 0 0.4em 0.5em 0.4em;box-sizing: border-box;padding-bottom: 0.4em;background-color: white;}#sk-container-id-47 div.sk-label label {font-family: monospace;font-weight: bold;display: inline-block;line-height: 1.2em;}#sk-container-id-47 div.sk-label-container {text-align: center;}#sk-container-id-47 div.sk-container {/* jupyter's `normalize.less` sets `[hidden] { display: none; }` but bootstrap.min.css set `[hidden] { display: none !important; }` so we also need the `!important` here to be able to override the default hidden behavior on the sphinx rendered scikit-learn.org. See: https://github.com/scikit-learn/scikit-learn/issues/21755 */display: inline-block !important;position: relative;}#sk-container-id-47 div.sk-text-repr-fallback {display: none;}</style><div id=\"sk-container-id-47\" class=\"sk-top-container\"><div class=\"sk-text-repr-fallback\"><pre>Pipeline(steps=[(&#x27;mytrans&#x27;, MyTrans()),\n",
       "                (&#x27;columntransformer&#x27;,\n",
       "                 ColumnTransformer(remainder=&#x27;passthrough&#x27;,\n",
       "                                   transformers=[(&#x27;onehotencoder&#x27;,\n",
       "                                                  OneHotEncoder(handle_unknown=&#x27;ignore&#x27;,\n",
       "                                                                sparse=False),\n",
       "                                                  &lt;sklearn.compose._column_transformer.make_column_selector object at 0x433ba8910&gt;)]))])</pre><b>In a Jupyter environment, please rerun this cell to show the HTML representation or trust the notebook. <br />On GitHub, the HTML representation is unable to render, please try loading this page with nbviewer.org.</b></div><div class=\"sk-container\" hidden><div class=\"sk-item sk-dashed-wrapped\"><div class=\"sk-label-container\"><div class=\"sk-label sk-toggleable\"><input class=\"sk-toggleable__control sk-hidden--visually\" id=\"sk-estimator-id-253\" type=\"checkbox\" ><label for=\"sk-estimator-id-253\" class=\"sk-toggleable__label sk-toggleable__label-arrow\">Pipeline</label><div class=\"sk-toggleable__content\"><pre>Pipeline(steps=[(&#x27;mytrans&#x27;, MyTrans()),\n",
       "                (&#x27;columntransformer&#x27;,\n",
       "                 ColumnTransformer(remainder=&#x27;passthrough&#x27;,\n",
       "                                   transformers=[(&#x27;onehotencoder&#x27;,\n",
       "                                                  OneHotEncoder(handle_unknown=&#x27;ignore&#x27;,\n",
       "                                                                sparse=False),\n",
       "                                                  &lt;sklearn.compose._column_transformer.make_column_selector object at 0x433ba8910&gt;)]))])</pre></div></div></div><div class=\"sk-serial\"><div class=\"sk-item\"><div class=\"sk-estimator sk-toggleable\"><input class=\"sk-toggleable__control sk-hidden--visually\" id=\"sk-estimator-id-254\" type=\"checkbox\" ><label for=\"sk-estimator-id-254\" class=\"sk-toggleable__label sk-toggleable__label-arrow\">MyTrans</label><div class=\"sk-toggleable__content\"><pre>MyTrans()</pre></div></div></div><div class=\"sk-item sk-dashed-wrapped\"><div class=\"sk-label-container\"><div class=\"sk-label sk-toggleable\"><input class=\"sk-toggleable__control sk-hidden--visually\" id=\"sk-estimator-id-255\" type=\"checkbox\" ><label for=\"sk-estimator-id-255\" class=\"sk-toggleable__label sk-toggleable__label-arrow\">columntransformer: ColumnTransformer</label><div class=\"sk-toggleable__content\"><pre>ColumnTransformer(remainder=&#x27;passthrough&#x27;,\n",
       "                  transformers=[(&#x27;onehotencoder&#x27;,\n",
       "                                 OneHotEncoder(handle_unknown=&#x27;ignore&#x27;,\n",
       "                                               sparse=False),\n",
       "                                 &lt;sklearn.compose._column_transformer.make_column_selector object at 0x433ba8910&gt;)])</pre></div></div></div><div class=\"sk-parallel\"><div class=\"sk-parallel-item\"><div class=\"sk-item\"><div class=\"sk-label-container\"><div class=\"sk-label sk-toggleable\"><input class=\"sk-toggleable__control sk-hidden--visually\" id=\"sk-estimator-id-256\" type=\"checkbox\" ><label for=\"sk-estimator-id-256\" class=\"sk-toggleable__label sk-toggleable__label-arrow\">onehotencoder</label><div class=\"sk-toggleable__content\"><pre>&lt;sklearn.compose._column_transformer.make_column_selector object at 0x433ba8910&gt;</pre></div></div></div><div class=\"sk-serial\"><div class=\"sk-item\"><div class=\"sk-estimator sk-toggleable\"><input class=\"sk-toggleable__control sk-hidden--visually\" id=\"sk-estimator-id-257\" type=\"checkbox\" ><label for=\"sk-estimator-id-257\" class=\"sk-toggleable__label sk-toggleable__label-arrow\">OneHotEncoder</label><div class=\"sk-toggleable__content\"><pre>OneHotEncoder(handle_unknown=&#x27;ignore&#x27;, sparse=False)</pre></div></div></div></div></div></div><div class=\"sk-parallel-item\"><div class=\"sk-item\"><div class=\"sk-label-container\"><div class=\"sk-label sk-toggleable\"><input class=\"sk-toggleable__control sk-hidden--visually\" id=\"sk-estimator-id-258\" type=\"checkbox\" ><label for=\"sk-estimator-id-258\" class=\"sk-toggleable__label sk-toggleable__label-arrow\">remainder</label><div class=\"sk-toggleable__content\"><pre></pre></div></div></div><div class=\"sk-serial\"><div class=\"sk-item\"><div class=\"sk-estimator sk-toggleable\"><input class=\"sk-toggleable__control sk-hidden--visually\" id=\"sk-estimator-id-259\" type=\"checkbox\" ><label for=\"sk-estimator-id-259\" class=\"sk-toggleable__label sk-toggleable__label-arrow\">passthrough</label><div class=\"sk-toggleable__content\"><pre>passthrough</pre></div></div></div></div></div></div></div></div></div></div></div></div>"
      ],
      "text/plain": [
       "Pipeline(steps=[('mytrans', MyTrans()),\n",
       "                ('columntransformer',\n",
       "                 ColumnTransformer(remainder='passthrough',\n",
       "                                   transformers=[('onehotencoder',\n",
       "                                                  OneHotEncoder(handle_unknown='ignore',\n",
       "                                                                sparse=False),\n",
       "                                                  <sklearn.compose._column_transformer.make_column_selector object at 0x433ba8910>)]))])"
      ]
     },
     "execution_count": 285,
     "metadata": {},
     "output_type": "execute_result"
    }
   ],
   "source": [
    "cat_col = make_column_selector(dtype_include=['object'])\n",
    "ord_col = make_column_selector(dtype_include=['int64'])\n",
    "cat_transformer = OneHotEncoder(sparse = False, handle_unknown=\"ignore\")\n",
    "transformer2 = MyTrans()\n",
    "\n",
    "preproc_tranformation = make_column_transformer( \n",
    "    (cat_transformer, cat_col),\n",
    "    remainder = \"passthrough\"\n",
    "    )\n",
    "\n",
    "\n",
    "preproc_basic = make_pipeline(transformer2, preproc_tranformation)\n",
    "\n",
    "preproc_basic"
   ]
  },
  {
   "cell_type": "code",
   "execution_count": 177,
   "id": "7fc15fa3",
   "metadata": {},
   "outputs": [
    {
     "name": "stderr",
     "output_type": "stream",
     "text": [
      "/Users/ronjaboehmer/.pyenv/versions/3.10.6/envs/flightdelay/lib/python3.10/site-packages/sklearn/preprocessing/_encoders.py:975: FutureWarning: `sparse` was renamed to `sparse_output` in version 1.2 and will be removed in 1.4. `sparse_output` is ignored unless you leave `sparse` to its default value.\n",
      "  warnings.warn(\n"
     ]
    },
    {
     "data": {
      "text/html": [
       "<style>#sk-container-id-28 {color: black;}#sk-container-id-28 pre{padding: 0;}#sk-container-id-28 div.sk-toggleable {background-color: white;}#sk-container-id-28 label.sk-toggleable__label {cursor: pointer;display: block;width: 100%;margin-bottom: 0;padding: 0.3em;box-sizing: border-box;text-align: center;}#sk-container-id-28 label.sk-toggleable__label-arrow:before {content: \"▸\";float: left;margin-right: 0.25em;color: #696969;}#sk-container-id-28 label.sk-toggleable__label-arrow:hover:before {color: black;}#sk-container-id-28 div.sk-estimator:hover label.sk-toggleable__label-arrow:before {color: black;}#sk-container-id-28 div.sk-toggleable__content {max-height: 0;max-width: 0;overflow: hidden;text-align: left;background-color: #f0f8ff;}#sk-container-id-28 div.sk-toggleable__content pre {margin: 0.2em;color: black;border-radius: 0.25em;background-color: #f0f8ff;}#sk-container-id-28 input.sk-toggleable__control:checked~div.sk-toggleable__content {max-height: 200px;max-width: 100%;overflow: auto;}#sk-container-id-28 input.sk-toggleable__control:checked~label.sk-toggleable__label-arrow:before {content: \"▾\";}#sk-container-id-28 div.sk-estimator input.sk-toggleable__control:checked~label.sk-toggleable__label {background-color: #d4ebff;}#sk-container-id-28 div.sk-label input.sk-toggleable__control:checked~label.sk-toggleable__label {background-color: #d4ebff;}#sk-container-id-28 input.sk-hidden--visually {border: 0;clip: rect(1px 1px 1px 1px);clip: rect(1px, 1px, 1px, 1px);height: 1px;margin: -1px;overflow: hidden;padding: 0;position: absolute;width: 1px;}#sk-container-id-28 div.sk-estimator {font-family: monospace;background-color: #f0f8ff;border: 1px dotted black;border-radius: 0.25em;box-sizing: border-box;margin-bottom: 0.5em;}#sk-container-id-28 div.sk-estimator:hover {background-color: #d4ebff;}#sk-container-id-28 div.sk-parallel-item::after {content: \"\";width: 100%;border-bottom: 1px solid gray;flex-grow: 1;}#sk-container-id-28 div.sk-label:hover label.sk-toggleable__label {background-color: #d4ebff;}#sk-container-id-28 div.sk-serial::before {content: \"\";position: absolute;border-left: 1px solid gray;box-sizing: border-box;top: 0;bottom: 0;left: 50%;z-index: 0;}#sk-container-id-28 div.sk-serial {display: flex;flex-direction: column;align-items: center;background-color: white;padding-right: 0.2em;padding-left: 0.2em;position: relative;}#sk-container-id-28 div.sk-item {position: relative;z-index: 1;}#sk-container-id-28 div.sk-parallel {display: flex;align-items: stretch;justify-content: center;background-color: white;position: relative;}#sk-container-id-28 div.sk-item::before, #sk-container-id-28 div.sk-parallel-item::before {content: \"\";position: absolute;border-left: 1px solid gray;box-sizing: border-box;top: 0;bottom: 0;left: 50%;z-index: -1;}#sk-container-id-28 div.sk-parallel-item {display: flex;flex-direction: column;z-index: 1;position: relative;background-color: white;}#sk-container-id-28 div.sk-parallel-item:first-child::after {align-self: flex-end;width: 50%;}#sk-container-id-28 div.sk-parallel-item:last-child::after {align-self: flex-start;width: 50%;}#sk-container-id-28 div.sk-parallel-item:only-child::after {width: 0;}#sk-container-id-28 div.sk-dashed-wrapped {border: 1px dashed gray;margin: 0 0.4em 0.5em 0.4em;box-sizing: border-box;padding-bottom: 0.4em;background-color: white;}#sk-container-id-28 div.sk-label label {font-family: monospace;font-weight: bold;display: inline-block;line-height: 1.2em;}#sk-container-id-28 div.sk-label-container {text-align: center;}#sk-container-id-28 div.sk-container {/* jupyter's `normalize.less` sets `[hidden] { display: none; }` but bootstrap.min.css set `[hidden] { display: none !important; }` so we also need the `!important` here to be able to override the default hidden behavior on the sphinx rendered scikit-learn.org. See: https://github.com/scikit-learn/scikit-learn/issues/21755 */display: inline-block !important;position: relative;}#sk-container-id-28 div.sk-text-repr-fallback {display: none;}</style><div id=\"sk-container-id-28\" class=\"sk-top-container\"><div class=\"sk-text-repr-fallback\"><pre>Pipeline(steps=[(&#x27;mytrans&#x27;, MyTrans()),\n",
       "                (&#x27;columntransformer&#x27;,\n",
       "                 ColumnTransformer(remainder=&#x27;passthrough&#x27;,\n",
       "                                   transformers=[(&#x27;onehotencoder&#x27;,\n",
       "                                                  OneHotEncoder(handle_unknown=&#x27;ignore&#x27;,\n",
       "                                                                sparse=False),\n",
       "                                                  &lt;sklearn.compose._column_transformer.make_column_selector object at 0x13a4b2590&gt;)]))])</pre><b>In a Jupyter environment, please rerun this cell to show the HTML representation or trust the notebook. <br />On GitHub, the HTML representation is unable to render, please try loading this page with nbviewer.org.</b></div><div class=\"sk-container\" hidden><div class=\"sk-item sk-dashed-wrapped\"><div class=\"sk-label-container\"><div class=\"sk-label sk-toggleable\"><input class=\"sk-toggleable__control sk-hidden--visually\" id=\"sk-estimator-id-138\" type=\"checkbox\" ><label for=\"sk-estimator-id-138\" class=\"sk-toggleable__label sk-toggleable__label-arrow\">Pipeline</label><div class=\"sk-toggleable__content\"><pre>Pipeline(steps=[(&#x27;mytrans&#x27;, MyTrans()),\n",
       "                (&#x27;columntransformer&#x27;,\n",
       "                 ColumnTransformer(remainder=&#x27;passthrough&#x27;,\n",
       "                                   transformers=[(&#x27;onehotencoder&#x27;,\n",
       "                                                  OneHotEncoder(handle_unknown=&#x27;ignore&#x27;,\n",
       "                                                                sparse=False),\n",
       "                                                  &lt;sklearn.compose._column_transformer.make_column_selector object at 0x13a4b2590&gt;)]))])</pre></div></div></div><div class=\"sk-serial\"><div class=\"sk-item\"><div class=\"sk-estimator sk-toggleable\"><input class=\"sk-toggleable__control sk-hidden--visually\" id=\"sk-estimator-id-139\" type=\"checkbox\" ><label for=\"sk-estimator-id-139\" class=\"sk-toggleable__label sk-toggleable__label-arrow\">MyTrans</label><div class=\"sk-toggleable__content\"><pre>MyTrans()</pre></div></div></div><div class=\"sk-item sk-dashed-wrapped\"><div class=\"sk-label-container\"><div class=\"sk-label sk-toggleable\"><input class=\"sk-toggleable__control sk-hidden--visually\" id=\"sk-estimator-id-140\" type=\"checkbox\" ><label for=\"sk-estimator-id-140\" class=\"sk-toggleable__label sk-toggleable__label-arrow\">columntransformer: ColumnTransformer</label><div class=\"sk-toggleable__content\"><pre>ColumnTransformer(remainder=&#x27;passthrough&#x27;,\n",
       "                  transformers=[(&#x27;onehotencoder&#x27;,\n",
       "                                 OneHotEncoder(handle_unknown=&#x27;ignore&#x27;,\n",
       "                                               sparse=False),\n",
       "                                 &lt;sklearn.compose._column_transformer.make_column_selector object at 0x13a4b2590&gt;)])</pre></div></div></div><div class=\"sk-parallel\"><div class=\"sk-parallel-item\"><div class=\"sk-item\"><div class=\"sk-label-container\"><div class=\"sk-label sk-toggleable\"><input class=\"sk-toggleable__control sk-hidden--visually\" id=\"sk-estimator-id-141\" type=\"checkbox\" ><label for=\"sk-estimator-id-141\" class=\"sk-toggleable__label sk-toggleable__label-arrow\">onehotencoder</label><div class=\"sk-toggleable__content\"><pre>&lt;sklearn.compose._column_transformer.make_column_selector object at 0x13a4b2590&gt;</pre></div></div></div><div class=\"sk-serial\"><div class=\"sk-item\"><div class=\"sk-estimator sk-toggleable\"><input class=\"sk-toggleable__control sk-hidden--visually\" id=\"sk-estimator-id-142\" type=\"checkbox\" ><label for=\"sk-estimator-id-142\" class=\"sk-toggleable__label sk-toggleable__label-arrow\">OneHotEncoder</label><div class=\"sk-toggleable__content\"><pre>OneHotEncoder(handle_unknown=&#x27;ignore&#x27;, sparse=False)</pre></div></div></div></div></div></div><div class=\"sk-parallel-item\"><div class=\"sk-item\"><div class=\"sk-label-container\"><div class=\"sk-label sk-toggleable\"><input class=\"sk-toggleable__control sk-hidden--visually\" id=\"sk-estimator-id-143\" type=\"checkbox\" ><label for=\"sk-estimator-id-143\" class=\"sk-toggleable__label sk-toggleable__label-arrow\">remainder</label><div class=\"sk-toggleable__content\"><pre>[&#x27;DistanceGroup&#x27;, &#x27;Month_sin&#x27;, &#x27;Month_cs&#x27;, &#x27;DayOfWeek_sin&#x27;, &#x27;DayOfWeek_cos&#x27;, &#x27;Month_cos&#x27;]</pre></div></div></div><div class=\"sk-serial\"><div class=\"sk-item\"><div class=\"sk-estimator sk-toggleable\"><input class=\"sk-toggleable__control sk-hidden--visually\" id=\"sk-estimator-id-144\" type=\"checkbox\" ><label for=\"sk-estimator-id-144\" class=\"sk-toggleable__label sk-toggleable__label-arrow\">passthrough</label><div class=\"sk-toggleable__content\"><pre>passthrough</pre></div></div></div></div></div></div></div></div></div></div></div></div>"
      ],
      "text/plain": [
       "Pipeline(steps=[('mytrans', MyTrans()),\n",
       "                ('columntransformer',\n",
       "                 ColumnTransformer(remainder='passthrough',\n",
       "                                   transformers=[('onehotencoder',\n",
       "                                                  OneHotEncoder(handle_unknown='ignore',\n",
       "                                                                sparse=False),\n",
       "                                                  <sklearn.compose._column_transformer.make_column_selector object at 0x13a4b2590>)]))])"
      ]
     },
     "execution_count": 177,
     "metadata": {},
     "output_type": "execute_result"
    }
   ],
   "source": [
    "preproc_basic.fit(X)"
   ]
  },
  {
   "cell_type": "code",
   "execution_count": 286,
   "id": "794ce461",
   "metadata": {},
   "outputs": [
    {
     "name": "stderr",
     "output_type": "stream",
     "text": [
      "/Users/ronjaboehmer/.pyenv/versions/3.10.6/envs/flightdelay/lib/python3.10/site-packages/sklearn/preprocessing/_encoders.py:975: FutureWarning: `sparse` was renamed to `sparse_output` in version 1.2 and will be removed in 1.4. `sparse_output` is ignored unless you leave `sparse` to its default value.\n",
      "  warnings.warn(\n"
     ]
    },
    {
     "data": {
      "text/html": [
       "<style>#sk-container-id-48 {color: black;}#sk-container-id-48 pre{padding: 0;}#sk-container-id-48 div.sk-toggleable {background-color: white;}#sk-container-id-48 label.sk-toggleable__label {cursor: pointer;display: block;width: 100%;margin-bottom: 0;padding: 0.3em;box-sizing: border-box;text-align: center;}#sk-container-id-48 label.sk-toggleable__label-arrow:before {content: \"▸\";float: left;margin-right: 0.25em;color: #696969;}#sk-container-id-48 label.sk-toggleable__label-arrow:hover:before {color: black;}#sk-container-id-48 div.sk-estimator:hover label.sk-toggleable__label-arrow:before {color: black;}#sk-container-id-48 div.sk-toggleable__content {max-height: 0;max-width: 0;overflow: hidden;text-align: left;background-color: #f0f8ff;}#sk-container-id-48 div.sk-toggleable__content pre {margin: 0.2em;color: black;border-radius: 0.25em;background-color: #f0f8ff;}#sk-container-id-48 input.sk-toggleable__control:checked~div.sk-toggleable__content {max-height: 200px;max-width: 100%;overflow: auto;}#sk-container-id-48 input.sk-toggleable__control:checked~label.sk-toggleable__label-arrow:before {content: \"▾\";}#sk-container-id-48 div.sk-estimator input.sk-toggleable__control:checked~label.sk-toggleable__label {background-color: #d4ebff;}#sk-container-id-48 div.sk-label input.sk-toggleable__control:checked~label.sk-toggleable__label {background-color: #d4ebff;}#sk-container-id-48 input.sk-hidden--visually {border: 0;clip: rect(1px 1px 1px 1px);clip: rect(1px, 1px, 1px, 1px);height: 1px;margin: -1px;overflow: hidden;padding: 0;position: absolute;width: 1px;}#sk-container-id-48 div.sk-estimator {font-family: monospace;background-color: #f0f8ff;border: 1px dotted black;border-radius: 0.25em;box-sizing: border-box;margin-bottom: 0.5em;}#sk-container-id-48 div.sk-estimator:hover {background-color: #d4ebff;}#sk-container-id-48 div.sk-parallel-item::after {content: \"\";width: 100%;border-bottom: 1px solid gray;flex-grow: 1;}#sk-container-id-48 div.sk-label:hover label.sk-toggleable__label {background-color: #d4ebff;}#sk-container-id-48 div.sk-serial::before {content: \"\";position: absolute;border-left: 1px solid gray;box-sizing: border-box;top: 0;bottom: 0;left: 50%;z-index: 0;}#sk-container-id-48 div.sk-serial {display: flex;flex-direction: column;align-items: center;background-color: white;padding-right: 0.2em;padding-left: 0.2em;position: relative;}#sk-container-id-48 div.sk-item {position: relative;z-index: 1;}#sk-container-id-48 div.sk-parallel {display: flex;align-items: stretch;justify-content: center;background-color: white;position: relative;}#sk-container-id-48 div.sk-item::before, #sk-container-id-48 div.sk-parallel-item::before {content: \"\";position: absolute;border-left: 1px solid gray;box-sizing: border-box;top: 0;bottom: 0;left: 50%;z-index: -1;}#sk-container-id-48 div.sk-parallel-item {display: flex;flex-direction: column;z-index: 1;position: relative;background-color: white;}#sk-container-id-48 div.sk-parallel-item:first-child::after {align-self: flex-end;width: 50%;}#sk-container-id-48 div.sk-parallel-item:last-child::after {align-self: flex-start;width: 50%;}#sk-container-id-48 div.sk-parallel-item:only-child::after {width: 0;}#sk-container-id-48 div.sk-dashed-wrapped {border: 1px dashed gray;margin: 0 0.4em 0.5em 0.4em;box-sizing: border-box;padding-bottom: 0.4em;background-color: white;}#sk-container-id-48 div.sk-label label {font-family: monospace;font-weight: bold;display: inline-block;line-height: 1.2em;}#sk-container-id-48 div.sk-label-container {text-align: center;}#sk-container-id-48 div.sk-container {/* jupyter's `normalize.less` sets `[hidden] { display: none; }` but bootstrap.min.css set `[hidden] { display: none !important; }` so we also need the `!important` here to be able to override the default hidden behavior on the sphinx rendered scikit-learn.org. See: https://github.com/scikit-learn/scikit-learn/issues/21755 */display: inline-block !important;position: relative;}#sk-container-id-48 div.sk-text-repr-fallback {display: none;}</style><div id=\"sk-container-id-48\" class=\"sk-top-container\"><div class=\"sk-text-repr-fallback\"><pre>Pipeline(steps=[(&#x27;mytrans&#x27;, MyTrans()),\n",
       "                (&#x27;columntransformer&#x27;,\n",
       "                 ColumnTransformer(remainder=&#x27;passthrough&#x27;,\n",
       "                                   transformers=[(&#x27;onehotencoder&#x27;,\n",
       "                                                  OneHotEncoder(handle_unknown=&#x27;ignore&#x27;,\n",
       "                                                                sparse=False),\n",
       "                                                  &lt;sklearn.compose._column_transformer.make_column_selector object at 0x433ba8910&gt;)]))])</pre><b>In a Jupyter environment, please rerun this cell to show the HTML representation or trust the notebook. <br />On GitHub, the HTML representation is unable to render, please try loading this page with nbviewer.org.</b></div><div class=\"sk-container\" hidden><div class=\"sk-item sk-dashed-wrapped\"><div class=\"sk-label-container\"><div class=\"sk-label sk-toggleable\"><input class=\"sk-toggleable__control sk-hidden--visually\" id=\"sk-estimator-id-260\" type=\"checkbox\" ><label for=\"sk-estimator-id-260\" class=\"sk-toggleable__label sk-toggleable__label-arrow\">Pipeline</label><div class=\"sk-toggleable__content\"><pre>Pipeline(steps=[(&#x27;mytrans&#x27;, MyTrans()),\n",
       "                (&#x27;columntransformer&#x27;,\n",
       "                 ColumnTransformer(remainder=&#x27;passthrough&#x27;,\n",
       "                                   transformers=[(&#x27;onehotencoder&#x27;,\n",
       "                                                  OneHotEncoder(handle_unknown=&#x27;ignore&#x27;,\n",
       "                                                                sparse=False),\n",
       "                                                  &lt;sklearn.compose._column_transformer.make_column_selector object at 0x433ba8910&gt;)]))])</pre></div></div></div><div class=\"sk-serial\"><div class=\"sk-item\"><div class=\"sk-estimator sk-toggleable\"><input class=\"sk-toggleable__control sk-hidden--visually\" id=\"sk-estimator-id-261\" type=\"checkbox\" ><label for=\"sk-estimator-id-261\" class=\"sk-toggleable__label sk-toggleable__label-arrow\">MyTrans</label><div class=\"sk-toggleable__content\"><pre>MyTrans()</pre></div></div></div><div class=\"sk-item sk-dashed-wrapped\"><div class=\"sk-label-container\"><div class=\"sk-label sk-toggleable\"><input class=\"sk-toggleable__control sk-hidden--visually\" id=\"sk-estimator-id-262\" type=\"checkbox\" ><label for=\"sk-estimator-id-262\" class=\"sk-toggleable__label sk-toggleable__label-arrow\">columntransformer: ColumnTransformer</label><div class=\"sk-toggleable__content\"><pre>ColumnTransformer(remainder=&#x27;passthrough&#x27;,\n",
       "                  transformers=[(&#x27;onehotencoder&#x27;,\n",
       "                                 OneHotEncoder(handle_unknown=&#x27;ignore&#x27;,\n",
       "                                               sparse=False),\n",
       "                                 &lt;sklearn.compose._column_transformer.make_column_selector object at 0x433ba8910&gt;)])</pre></div></div></div><div class=\"sk-parallel\"><div class=\"sk-parallel-item\"><div class=\"sk-item\"><div class=\"sk-label-container\"><div class=\"sk-label sk-toggleable\"><input class=\"sk-toggleable__control sk-hidden--visually\" id=\"sk-estimator-id-263\" type=\"checkbox\" ><label for=\"sk-estimator-id-263\" class=\"sk-toggleable__label sk-toggleable__label-arrow\">onehotencoder</label><div class=\"sk-toggleable__content\"><pre>&lt;sklearn.compose._column_transformer.make_column_selector object at 0x433ba8910&gt;</pre></div></div></div><div class=\"sk-serial\"><div class=\"sk-item\"><div class=\"sk-estimator sk-toggleable\"><input class=\"sk-toggleable__control sk-hidden--visually\" id=\"sk-estimator-id-264\" type=\"checkbox\" ><label for=\"sk-estimator-id-264\" class=\"sk-toggleable__label sk-toggleable__label-arrow\">OneHotEncoder</label><div class=\"sk-toggleable__content\"><pre>OneHotEncoder(handle_unknown=&#x27;ignore&#x27;, sparse=False)</pre></div></div></div></div></div></div><div class=\"sk-parallel-item\"><div class=\"sk-item\"><div class=\"sk-label-container\"><div class=\"sk-label sk-toggleable\"><input class=\"sk-toggleable__control sk-hidden--visually\" id=\"sk-estimator-id-265\" type=\"checkbox\" ><label for=\"sk-estimator-id-265\" class=\"sk-toggleable__label sk-toggleable__label-arrow\">remainder</label><div class=\"sk-toggleable__content\"><pre>[&#x27;DistanceGroup&#x27;, &#x27;Month_sin&#x27;, &#x27;Month_cos&#x27;, &#x27;DayOfWeek_sin&#x27;, &#x27;DayOfWeek_cos&#x27;]</pre></div></div></div><div class=\"sk-serial\"><div class=\"sk-item\"><div class=\"sk-estimator sk-toggleable\"><input class=\"sk-toggleable__control sk-hidden--visually\" id=\"sk-estimator-id-266\" type=\"checkbox\" ><label for=\"sk-estimator-id-266\" class=\"sk-toggleable__label sk-toggleable__label-arrow\">passthrough</label><div class=\"sk-toggleable__content\"><pre>passthrough</pre></div></div></div></div></div></div></div></div></div></div></div></div>"
      ],
      "text/plain": [
       "Pipeline(steps=[('mytrans', MyTrans()),\n",
       "                ('columntransformer',\n",
       "                 ColumnTransformer(remainder='passthrough',\n",
       "                                   transformers=[('onehotencoder',\n",
       "                                                  OneHotEncoder(handle_unknown='ignore',\n",
       "                                                                sparse=False),\n",
       "                                                  <sklearn.compose._column_transformer.make_column_selector object at 0x433ba8910>)]))])"
      ]
     },
     "execution_count": 286,
     "metadata": {},
     "output_type": "execute_result"
    }
   ],
   "source": [
    "preproc_basic.fit(X_2k)"
   ]
  },
  {
   "cell_type": "code",
   "execution_count": 262,
   "id": "436786b6",
   "metadata": {},
   "outputs": [
    {
     "data": {
      "text/plain": [
       "Index(['DistanceGroup', 'Month_sin', 'Month_cos', 'DayOfWeek_sin',\n",
       "       'DayOfWeek_cos'],\n",
       "      dtype='object')"
      ]
     },
     "execution_count": 262,
     "metadata": {},
     "output_type": "execute_result"
    }
   ],
   "source": [
    "selected_columns = ['DistanceGroup', 'Month_sin', 'Month_cos', 'DayOfWeek_sin', 'DayOfWeek_cos']\n",
    "all_transformed_cols = transformer2.transform(X_2k).columns\n",
    "selected_transformed_cols = all_transformed_cols.intersection(selected_columns)\n",
    "selected_transformed_cols"
   ]
  },
  {
   "cell_type": "code",
   "execution_count": 287,
   "id": "8b0b000e",
   "metadata": {},
   "outputs": [],
   "source": [
    "X_2k_transformed = pd.DataFrame(\n",
    "    preproc_basic.transform(X_2k), \n",
    "    columns=np.concatenate([\n",
    "    preproc_basic.named_steps['columntransformer'].named_transformers_['onehotencoder'].get_feature_names_out(),\n",
    "    selected_transformed_cols ]))\n"
   ]
  },
  {
   "cell_type": "code",
   "execution_count": 288,
   "id": "9e40eceb",
   "metadata": {},
   "outputs": [
    {
     "data": {
      "text/html": [
       "<div>\n",
       "<style scoped>\n",
       "    .dataframe tbody tr th:only-of-type {\n",
       "        vertical-align: middle;\n",
       "    }\n",
       "\n",
       "    .dataframe tbody tr th {\n",
       "        vertical-align: top;\n",
       "    }\n",
       "\n",
       "    .dataframe thead th {\n",
       "        text-align: right;\n",
       "    }\n",
       "</style>\n",
       "<table border=\"1\" class=\"dataframe\">\n",
       "  <thead>\n",
       "    <tr style=\"text-align: right;\">\n",
       "      <th></th>\n",
       "      <th>Operating_Airline_9E</th>\n",
       "      <th>Operating_Airline_AA</th>\n",
       "      <th>Operating_Airline_AS</th>\n",
       "      <th>Operating_Airline_B6</th>\n",
       "      <th>Operating_Airline_C5</th>\n",
       "      <th>Operating_Airline_DL</th>\n",
       "      <th>Operating_Airline_F9</th>\n",
       "      <th>Operating_Airline_G4</th>\n",
       "      <th>Operating_Airline_G7</th>\n",
       "      <th>Operating_Airline_HA</th>\n",
       "      <th>...</th>\n",
       "      <th>groups_DepTimeBlk_morning</th>\n",
       "      <th>groups_DepTimeBlk_night</th>\n",
       "      <th>groups_ArrTimeBlk_daytime</th>\n",
       "      <th>groups_ArrTimeBlk_morning</th>\n",
       "      <th>groups_ArrTimeBlk_night</th>\n",
       "      <th>DistanceGroup</th>\n",
       "      <th>Month_sin</th>\n",
       "      <th>Month_cos</th>\n",
       "      <th>DayOfWeek_sin</th>\n",
       "      <th>DayOfWeek_cos</th>\n",
       "    </tr>\n",
       "  </thead>\n",
       "  <tbody>\n",
       "    <tr>\n",
       "      <th>0</th>\n",
       "      <td>1.0</td>\n",
       "      <td>0.0</td>\n",
       "      <td>0.0</td>\n",
       "      <td>0.0</td>\n",
       "      <td>0.0</td>\n",
       "      <td>0.0</td>\n",
       "      <td>0.0</td>\n",
       "      <td>0.0</td>\n",
       "      <td>0.0</td>\n",
       "      <td>0.0</td>\n",
       "      <td>...</td>\n",
       "      <td>0.0</td>\n",
       "      <td>0.0</td>\n",
       "      <td>1.0</td>\n",
       "      <td>0.0</td>\n",
       "      <td>0.0</td>\n",
       "      <td>1.0</td>\n",
       "      <td>5.000000e-01</td>\n",
       "      <td>0.866025</td>\n",
       "      <td>7.818315e-01</td>\n",
       "      <td>0.623490</td>\n",
       "    </tr>\n",
       "    <tr>\n",
       "      <th>1</th>\n",
       "      <td>0.0</td>\n",
       "      <td>1.0</td>\n",
       "      <td>0.0</td>\n",
       "      <td>0.0</td>\n",
       "      <td>0.0</td>\n",
       "      <td>0.0</td>\n",
       "      <td>0.0</td>\n",
       "      <td>0.0</td>\n",
       "      <td>0.0</td>\n",
       "      <td>0.0</td>\n",
       "      <td>...</td>\n",
       "      <td>1.0</td>\n",
       "      <td>0.0</td>\n",
       "      <td>0.0</td>\n",
       "      <td>1.0</td>\n",
       "      <td>0.0</td>\n",
       "      <td>4.0</td>\n",
       "      <td>5.000000e-01</td>\n",
       "      <td>0.866025</td>\n",
       "      <td>-2.449294e-16</td>\n",
       "      <td>1.000000</td>\n",
       "    </tr>\n",
       "    <tr>\n",
       "      <th>2</th>\n",
       "      <td>0.0</td>\n",
       "      <td>0.0</td>\n",
       "      <td>0.0</td>\n",
       "      <td>0.0</td>\n",
       "      <td>0.0</td>\n",
       "      <td>0.0</td>\n",
       "      <td>0.0</td>\n",
       "      <td>0.0</td>\n",
       "      <td>0.0</td>\n",
       "      <td>0.0</td>\n",
       "      <td>...</td>\n",
       "      <td>0.0</td>\n",
       "      <td>1.0</td>\n",
       "      <td>0.0</td>\n",
       "      <td>0.0</td>\n",
       "      <td>1.0</td>\n",
       "      <td>3.0</td>\n",
       "      <td>5.000000e-01</td>\n",
       "      <td>0.866025</td>\n",
       "      <td>-9.749279e-01</td>\n",
       "      <td>-0.222521</td>\n",
       "    </tr>\n",
       "    <tr>\n",
       "      <th>3</th>\n",
       "      <td>0.0</td>\n",
       "      <td>0.0</td>\n",
       "      <td>0.0</td>\n",
       "      <td>0.0</td>\n",
       "      <td>0.0</td>\n",
       "      <td>0.0</td>\n",
       "      <td>0.0</td>\n",
       "      <td>0.0</td>\n",
       "      <td>0.0</td>\n",
       "      <td>0.0</td>\n",
       "      <td>...</td>\n",
       "      <td>1.0</td>\n",
       "      <td>0.0</td>\n",
       "      <td>0.0</td>\n",
       "      <td>1.0</td>\n",
       "      <td>0.0</td>\n",
       "      <td>2.0</td>\n",
       "      <td>5.000000e-01</td>\n",
       "      <td>0.866025</td>\n",
       "      <td>-2.449294e-16</td>\n",
       "      <td>1.000000</td>\n",
       "    </tr>\n",
       "    <tr>\n",
       "      <th>4</th>\n",
       "      <td>0.0</td>\n",
       "      <td>0.0</td>\n",
       "      <td>0.0</td>\n",
       "      <td>0.0</td>\n",
       "      <td>0.0</td>\n",
       "      <td>1.0</td>\n",
       "      <td>0.0</td>\n",
       "      <td>0.0</td>\n",
       "      <td>0.0</td>\n",
       "      <td>0.0</td>\n",
       "      <td>...</td>\n",
       "      <td>1.0</td>\n",
       "      <td>0.0</td>\n",
       "      <td>1.0</td>\n",
       "      <td>0.0</td>\n",
       "      <td>0.0</td>\n",
       "      <td>2.0</td>\n",
       "      <td>5.000000e-01</td>\n",
       "      <td>0.866025</td>\n",
       "      <td>4.338837e-01</td>\n",
       "      <td>-0.900969</td>\n",
       "    </tr>\n",
       "    <tr>\n",
       "      <th>...</th>\n",
       "      <td>...</td>\n",
       "      <td>...</td>\n",
       "      <td>...</td>\n",
       "      <td>...</td>\n",
       "      <td>...</td>\n",
       "      <td>...</td>\n",
       "      <td>...</td>\n",
       "      <td>...</td>\n",
       "      <td>...</td>\n",
       "      <td>...</td>\n",
       "      <td>...</td>\n",
       "      <td>...</td>\n",
       "      <td>...</td>\n",
       "      <td>...</td>\n",
       "      <td>...</td>\n",
       "      <td>...</td>\n",
       "      <td>...</td>\n",
       "      <td>...</td>\n",
       "      <td>...</td>\n",
       "      <td>...</td>\n",
       "      <td>...</td>\n",
       "    </tr>\n",
       "    <tr>\n",
       "      <th>1999</th>\n",
       "      <td>0.0</td>\n",
       "      <td>0.0</td>\n",
       "      <td>0.0</td>\n",
       "      <td>1.0</td>\n",
       "      <td>0.0</td>\n",
       "      <td>0.0</td>\n",
       "      <td>0.0</td>\n",
       "      <td>0.0</td>\n",
       "      <td>0.0</td>\n",
       "      <td>0.0</td>\n",
       "      <td>...</td>\n",
       "      <td>1.0</td>\n",
       "      <td>0.0</td>\n",
       "      <td>1.0</td>\n",
       "      <td>0.0</td>\n",
       "      <td>0.0</td>\n",
       "      <td>1.0</td>\n",
       "      <td>-2.449294e-16</td>\n",
       "      <td>1.000000</td>\n",
       "      <td>4.338837e-01</td>\n",
       "      <td>-0.900969</td>\n",
       "    </tr>\n",
       "    <tr>\n",
       "      <th>2000</th>\n",
       "      <td>0.0</td>\n",
       "      <td>0.0</td>\n",
       "      <td>0.0</td>\n",
       "      <td>1.0</td>\n",
       "      <td>0.0</td>\n",
       "      <td>0.0</td>\n",
       "      <td>0.0</td>\n",
       "      <td>0.0</td>\n",
       "      <td>0.0</td>\n",
       "      <td>0.0</td>\n",
       "      <td>...</td>\n",
       "      <td>0.0</td>\n",
       "      <td>0.0</td>\n",
       "      <td>1.0</td>\n",
       "      <td>0.0</td>\n",
       "      <td>0.0</td>\n",
       "      <td>5.0</td>\n",
       "      <td>-2.449294e-16</td>\n",
       "      <td>1.000000</td>\n",
       "      <td>4.338837e-01</td>\n",
       "      <td>-0.900969</td>\n",
       "    </tr>\n",
       "    <tr>\n",
       "      <th>2001</th>\n",
       "      <td>1.0</td>\n",
       "      <td>0.0</td>\n",
       "      <td>0.0</td>\n",
       "      <td>0.0</td>\n",
       "      <td>0.0</td>\n",
       "      <td>0.0</td>\n",
       "      <td>0.0</td>\n",
       "      <td>0.0</td>\n",
       "      <td>0.0</td>\n",
       "      <td>0.0</td>\n",
       "      <td>...</td>\n",
       "      <td>1.0</td>\n",
       "      <td>0.0</td>\n",
       "      <td>0.0</td>\n",
       "      <td>1.0</td>\n",
       "      <td>0.0</td>\n",
       "      <td>1.0</td>\n",
       "      <td>-2.449294e-16</td>\n",
       "      <td>1.000000</td>\n",
       "      <td>9.749279e-01</td>\n",
       "      <td>-0.222521</td>\n",
       "    </tr>\n",
       "    <tr>\n",
       "      <th>2002</th>\n",
       "      <td>0.0</td>\n",
       "      <td>0.0</td>\n",
       "      <td>0.0</td>\n",
       "      <td>0.0</td>\n",
       "      <td>0.0</td>\n",
       "      <td>0.0</td>\n",
       "      <td>0.0</td>\n",
       "      <td>0.0</td>\n",
       "      <td>0.0</td>\n",
       "      <td>0.0</td>\n",
       "      <td>...</td>\n",
       "      <td>0.0</td>\n",
       "      <td>1.0</td>\n",
       "      <td>0.0</td>\n",
       "      <td>1.0</td>\n",
       "      <td>0.0</td>\n",
       "      <td>6.0</td>\n",
       "      <td>-2.449294e-16</td>\n",
       "      <td>1.000000</td>\n",
       "      <td>7.818315e-01</td>\n",
       "      <td>0.623490</td>\n",
       "    </tr>\n",
       "    <tr>\n",
       "      <th>2003</th>\n",
       "      <td>0.0</td>\n",
       "      <td>0.0</td>\n",
       "      <td>0.0</td>\n",
       "      <td>0.0</td>\n",
       "      <td>0.0</td>\n",
       "      <td>0.0</td>\n",
       "      <td>0.0</td>\n",
       "      <td>0.0</td>\n",
       "      <td>0.0</td>\n",
       "      <td>0.0</td>\n",
       "      <td>...</td>\n",
       "      <td>0.0</td>\n",
       "      <td>0.0</td>\n",
       "      <td>0.0</td>\n",
       "      <td>0.0</td>\n",
       "      <td>1.0</td>\n",
       "      <td>3.0</td>\n",
       "      <td>-2.449294e-16</td>\n",
       "      <td>1.000000</td>\n",
       "      <td>-7.818315e-01</td>\n",
       "      <td>0.623490</td>\n",
       "    </tr>\n",
       "  </tbody>\n",
       "</table>\n",
       "<p>2004 rows × 426 columns</p>\n",
       "</div>"
      ],
      "text/plain": [
       "      Operating_Airline_9E  Operating_Airline_AA  Operating_Airline_AS  \\\n",
       "0                      1.0                   0.0                   0.0   \n",
       "1                      0.0                   1.0                   0.0   \n",
       "2                      0.0                   0.0                   0.0   \n",
       "3                      0.0                   0.0                   0.0   \n",
       "4                      0.0                   0.0                   0.0   \n",
       "...                    ...                   ...                   ...   \n",
       "1999                   0.0                   0.0                   0.0   \n",
       "2000                   0.0                   0.0                   0.0   \n",
       "2001                   1.0                   0.0                   0.0   \n",
       "2002                   0.0                   0.0                   0.0   \n",
       "2003                   0.0                   0.0                   0.0   \n",
       "\n",
       "      Operating_Airline_B6  Operating_Airline_C5  Operating_Airline_DL  \\\n",
       "0                      0.0                   0.0                   0.0   \n",
       "1                      0.0                   0.0                   0.0   \n",
       "2                      0.0                   0.0                   0.0   \n",
       "3                      0.0                   0.0                   0.0   \n",
       "4                      0.0                   0.0                   1.0   \n",
       "...                    ...                   ...                   ...   \n",
       "1999                   1.0                   0.0                   0.0   \n",
       "2000                   1.0                   0.0                   0.0   \n",
       "2001                   0.0                   0.0                   0.0   \n",
       "2002                   0.0                   0.0                   0.0   \n",
       "2003                   0.0                   0.0                   0.0   \n",
       "\n",
       "      Operating_Airline_F9  Operating_Airline_G4  Operating_Airline_G7  \\\n",
       "0                      0.0                   0.0                   0.0   \n",
       "1                      0.0                   0.0                   0.0   \n",
       "2                      0.0                   0.0                   0.0   \n",
       "3                      0.0                   0.0                   0.0   \n",
       "4                      0.0                   0.0                   0.0   \n",
       "...                    ...                   ...                   ...   \n",
       "1999                   0.0                   0.0                   0.0   \n",
       "2000                   0.0                   0.0                   0.0   \n",
       "2001                   0.0                   0.0                   0.0   \n",
       "2002                   0.0                   0.0                   0.0   \n",
       "2003                   0.0                   0.0                   0.0   \n",
       "\n",
       "      Operating_Airline_HA  ...  groups_DepTimeBlk_morning  \\\n",
       "0                      0.0  ...                        0.0   \n",
       "1                      0.0  ...                        1.0   \n",
       "2                      0.0  ...                        0.0   \n",
       "3                      0.0  ...                        1.0   \n",
       "4                      0.0  ...                        1.0   \n",
       "...                    ...  ...                        ...   \n",
       "1999                   0.0  ...                        1.0   \n",
       "2000                   0.0  ...                        0.0   \n",
       "2001                   0.0  ...                        1.0   \n",
       "2002                   0.0  ...                        0.0   \n",
       "2003                   0.0  ...                        0.0   \n",
       "\n",
       "      groups_DepTimeBlk_night  groups_ArrTimeBlk_daytime  \\\n",
       "0                         0.0                        1.0   \n",
       "1                         0.0                        0.0   \n",
       "2                         1.0                        0.0   \n",
       "3                         0.0                        0.0   \n",
       "4                         0.0                        1.0   \n",
       "...                       ...                        ...   \n",
       "1999                      0.0                        1.0   \n",
       "2000                      0.0                        1.0   \n",
       "2001                      0.0                        0.0   \n",
       "2002                      1.0                        0.0   \n",
       "2003                      0.0                        0.0   \n",
       "\n",
       "      groups_ArrTimeBlk_morning  groups_ArrTimeBlk_night  DistanceGroup  \\\n",
       "0                           0.0                      0.0            1.0   \n",
       "1                           1.0                      0.0            4.0   \n",
       "2                           0.0                      1.0            3.0   \n",
       "3                           1.0                      0.0            2.0   \n",
       "4                           0.0                      0.0            2.0   \n",
       "...                         ...                      ...            ...   \n",
       "1999                        0.0                      0.0            1.0   \n",
       "2000                        0.0                      0.0            5.0   \n",
       "2001                        1.0                      0.0            1.0   \n",
       "2002                        1.0                      0.0            6.0   \n",
       "2003                        0.0                      1.0            3.0   \n",
       "\n",
       "         Month_sin  Month_cos  DayOfWeek_sin  DayOfWeek_cos  \n",
       "0     5.000000e-01   0.866025   7.818315e-01       0.623490  \n",
       "1     5.000000e-01   0.866025  -2.449294e-16       1.000000  \n",
       "2     5.000000e-01   0.866025  -9.749279e-01      -0.222521  \n",
       "3     5.000000e-01   0.866025  -2.449294e-16       1.000000  \n",
       "4     5.000000e-01   0.866025   4.338837e-01      -0.900969  \n",
       "...            ...        ...            ...            ...  \n",
       "1999 -2.449294e-16   1.000000   4.338837e-01      -0.900969  \n",
       "2000 -2.449294e-16   1.000000   4.338837e-01      -0.900969  \n",
       "2001 -2.449294e-16   1.000000   9.749279e-01      -0.222521  \n",
       "2002 -2.449294e-16   1.000000   7.818315e-01       0.623490  \n",
       "2003 -2.449294e-16   1.000000  -7.818315e-01       0.623490  \n",
       "\n",
       "[2004 rows x 426 columns]"
      ]
     },
     "execution_count": 288,
     "metadata": {},
     "output_type": "execute_result"
    }
   ],
   "source": [
    "X_2k_transformed"
   ]
  },
  {
   "cell_type": "code",
   "execution_count": 115,
   "id": "29ea291f",
   "metadata": {},
   "outputs": [
    {
     "data": {
      "text/plain": [
       "240000"
      ]
     },
     "execution_count": 115,
     "metadata": {},
     "output_type": "execute_result"
    }
   ],
   "source": [
    "len(X_transformed)"
   ]
  },
  {
   "cell_type": "code",
   "execution_count": 139,
   "id": "6c1fc978",
   "metadata": {},
   "outputs": [
    {
     "data": {
      "text/plain": [
       "2004"
      ]
     },
     "execution_count": 139,
     "metadata": {},
     "output_type": "execute_result"
    }
   ],
   "source": [
    "len(X_2k_transformed)"
   ]
  },
  {
   "cell_type": "code",
   "execution_count": 117,
   "id": "701004cf",
   "metadata": {},
   "outputs": [],
   "source": [
    "X_transformed.to_csv(\"transformed_random_data_240000.csv\")"
   ]
  },
  {
   "cell_type": "code",
   "execution_count": 289,
   "id": "4c9250bd",
   "metadata": {},
   "outputs": [],
   "source": [
    "X_2k_transformed.to_csv(\"transformed_random_data_2004_cols.csv\")"
   ]
  },
  {
   "cell_type": "code",
   "execution_count": 246,
   "id": "e7f62bd2",
   "metadata": {},
   "outputs": [],
   "source": [
    "pd.DataFrame(cols).to_csv(\"cols.csv\")"
   ]
  },
  {
   "cell_type": "code",
   "execution_count": 281,
   "id": "b6de2966",
   "metadata": {},
   "outputs": [],
   "source": [
    "import pickle\n",
    "\n",
    "# Export Pipeline as pickle file\n",
    "with open(\"preproc_vs1.pkl\", \"wb\") as file:\n",
    "    pickle.dump(preproc_basic, file)"
   ]
  },
  {
   "cell_type": "code",
   "execution_count": null,
   "id": "d6053019",
   "metadata": {},
   "outputs": [],
   "source": []
  }
 ],
 "metadata": {
  "kernelspec": {
   "display_name": "Python 3 (ipykernel)",
   "language": "python",
   "name": "python3"
  },
  "language_info": {
   "codemirror_mode": {
    "name": "ipython",
    "version": 3
   },
   "file_extension": ".py",
   "mimetype": "text/x-python",
   "name": "python",
   "nbconvert_exporter": "python",
   "pygments_lexer": "ipython3",
   "version": "3.10.6"
  },
  "toc": {
   "base_numbering": 1,
   "nav_menu": {},
   "number_sections": true,
   "sideBar": true,
   "skip_h1_title": false,
   "title_cell": "Table of Contents",
   "title_sidebar": "Contents",
   "toc_cell": false,
   "toc_position": {},
   "toc_section_display": true,
   "toc_window_display": false
  }
 },
 "nbformat": 4,
 "nbformat_minor": 5
}

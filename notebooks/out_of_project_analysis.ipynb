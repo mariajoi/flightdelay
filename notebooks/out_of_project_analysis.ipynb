{
 "cells": [
  {
   "cell_type": "code",
   "execution_count": 18,
   "id": "838d3051",
   "metadata": {},
   "outputs": [],
   "source": [
    "import pandas as pd\n",
    "number = 1"
   ]
  },
  {
   "cell_type": "code",
   "execution_count": 19,
   "id": "444f4236",
   "metadata": {},
   "outputs": [],
   "source": [
    "filter_setup = ['Month', 'DayofMonth', 'DayOfWeek', 'FlightDate', 'Operating_Airline ', 'Flight_Number_Operating_Airline', 'Tail_Number', 'OriginAirportID', 'Origin', 'OriginCityName', 'OriginState', 'DestAirportID', 'Dest', 'DestCityName', 'DestState', 'CRSDepTime', 'DepTime', 'DepDelay', 'DepDelayMinutes', 'DepDel15', 'DepartureDelayGroups', 'DepTimeBlk', 'CRSArrTime', 'ArrTime', 'ArrDelay', 'ArrDelayMinutes', 'ArrDel15', 'ArrivalDelayGroups', 'ArrTimeBlk', 'Cancelled', 'CancellationCode', 'Diverted', 'CRSElapsedTime', 'ActualElapsedTime', 'AirTime', 'Distance', 'DistanceGroup', 'CarrierDelay', 'WeatherDelay', 'NASDelay', 'SecurityDelay', 'LateAircraftDelay']\n",
    "# Operating_Airline has a space behind"
   ]
  },
  {
   "cell_type": "code",
   "execution_count": 20,
   "id": "392cfb83",
   "metadata": {
    "scrolled": false
   },
   "outputs": [
    {
     "data": {
      "text/plain": [
       "(20000, 42)"
      ]
     },
     "execution_count": 20,
     "metadata": {},
     "output_type": "execute_result"
    }
   ],
   "source": [
    "test_df = pd.read_csv(f\"../flight delay project - main/raw_data/On_Time_Marketing_Carrier_On_Time_Performance_(Beginning_January_2018)_2022_{number}.csv\",usecols=filter_setup).sample(n=20000,random_state=42)\n",
    "#test_df.dropna()\n",
    "test_df.select_dtypes(include='int64').astype('int16')\n",
    "test_df.select_dtypes(include='float64').astype('float16')\n",
    "#delay_db2 = pd.read_csv(\"../flight delay project - main/raw_data/On_Time_Marketing_Carrier_On_Time_Performance_(Beginning_January_2018)_2022_2.csv\")\n",
    "#delay_db3 = pd.read_csv(\"../flight delay project - main/raw_data/On_Time_Marketing_Carrier_On_Time_Performance_(Beginning_January_2018)_2022_3.csv\")\n",
    "#delay_db4 = pd.read_csv(\"../flight delay project - main/raw_data/On_Time_Marketing_Carrier_On_Time_Performance_(Beginning_January_2018)_2022_4.csv\")\n",
    "#delay_db5 = pd.read_csv(\"../flight delay project - main/raw_data/On_Time_Marketing_Carrier_On_Time_Performance_(Beginning_January_2018)_2022_5.csv\")\n",
    "#delay_db6 = pd.read_csv(\"../flight delay project - main/raw_data/On_Time_Marketing_Carrier_On_Time_Performance_(Beginning_January_2018)_2022_6.csv\")\n",
    "#delay_db7 = pd.read_csv(\"../flight delay project - main/raw_data/On_Time_Marketing_Carrier_On_Time_Performance_(Beginning_January_2018)_2022_7.csv\")\n",
    "#delay_db8 = pd.read_csv(\"../flight delay project - main/raw_data/On_Time_Marketing_Carrier_On_Time_Performance_(Beginning_January_2018)_2022_8.csv\")\n",
    "#delay_db9 = pd.read_csv(\"../flight delay project - main/raw_data/On_Time_Marketing_Carrier_On_Time_Performance_(Beginning_January_2018)_2022_9.csv\")\n",
    "#delay_db10 = pd.read_csv(\"../flight delay project - main/raw_data/On_Time_Marketing_Carrier_On_Time_Performance_(Beginning_January_2018)_2022_10.csv\")\n",
    "#delay_db11 = pd.read_csv(\"../flight delay project - main/raw_data/On_Time_Marketing_Carrier_On_Time_Performance_(Beginning_January_2018)_2022_11.csv\")\n",
    "#delay_db12 = pd.read_csv(\"../flight delay project - main/raw_data/On_Time_Marketing_Carrier_On_Time_Performance_(Beginning_January_2018)_2022_12.csv\")\n",
    "\n",
    "test_df.shape"
   ]
  },
  {
   "cell_type": "code",
   "execution_count": 21,
   "id": "63c07324",
   "metadata": {},
   "outputs": [
    {
     "data": {
      "text/plain": [
       "Index(['Month', 'DayofMonth', 'DayOfWeek', 'FlightDate', 'Operating_Airline',\n",
       "       'Tail_Number', 'Flight_Number_Operating_Airline', 'OriginAirportID',\n",
       "       'Origin', 'OriginCityName', 'OriginState', 'DestAirportID', 'Dest',\n",
       "       'DestCityName', 'DestState', 'CRSDepTime', 'DepTime', 'DepDelay',\n",
       "       'DepDelayMinutes', 'DepDel15', 'DepartureDelayGroups', 'DepTimeBlk',\n",
       "       'CRSArrTime', 'ArrTime', 'ArrDelay', 'ArrDelayMinutes', 'ArrDel15',\n",
       "       'ArrivalDelayGroups', 'ArrTimeBlk', 'Cancelled', 'CancellationCode',\n",
       "       'Diverted', 'CRSElapsedTime', 'ActualElapsedTime', 'AirTime',\n",
       "       'Distance', 'DistanceGroup', 'CarrierDelay', 'WeatherDelay', 'NASDelay',\n",
       "       'SecurityDelay', 'LateAircraftDelay'],\n",
       "      dtype='object')"
      ]
     },
     "execution_count": 21,
     "metadata": {},
     "output_type": "execute_result"
    }
   ],
   "source": [
    "test_df.rename(columns={test_df.columns[4]: \"Operating_Airline\"},inplace=True)\n",
    "test_df.columns\n"
   ]
  },
  {
   "cell_type": "code",
   "execution_count": 22,
   "id": "2d42bb3d",
   "metadata": {},
   "outputs": [
    {
     "name": "stdout",
     "output_type": "stream",
     "text": [
      "Month\n",
      "DayofMonth\n",
      "DayOfWeek\n",
      "FlightDate\n",
      "Operating_Airline\n",
      "Tail_Number\n",
      "Flight_Number_Operating_Airline\n",
      "OriginAirportID\n",
      "Origin\n",
      "OriginCityName\n",
      "OriginState\n",
      "DestAirportID\n",
      "Dest\n",
      "DestCityName\n",
      "DestState\n",
      "CRSDepTime\n",
      "DepTime\n",
      "DepDelay\n",
      "DepDelayMinutes\n",
      "DepDel15\n",
      "DepartureDelayGroups\n",
      "DepTimeBlk\n",
      "CRSArrTime\n",
      "ArrTime\n",
      "ArrDelay\n",
      "ArrDelayMinutes\n",
      "ArrDel15\n",
      "ArrivalDelayGroups\n",
      "ArrTimeBlk\n",
      "Cancelled\n",
      "CancellationCode\n",
      "Diverted\n",
      "CRSElapsedTime\n",
      "ActualElapsedTime\n",
      "AirTime\n",
      "Distance\n",
      "DistanceGroup\n",
      "CarrierDelay\n",
      "WeatherDelay\n",
      "NASDelay\n",
      "SecurityDelay\n",
      "LateAircraftDelay\n"
     ]
    }
   ],
   "source": [
    "for i in test_df:\n",
    "    print(i)"
   ]
  },
  {
   "cell_type": "code",
   "execution_count": 23,
   "id": "0d3ebe39",
   "metadata": {},
   "outputs": [
    {
     "data": {
      "text/plain": [
       "Month                                int64\n",
       "DayofMonth                           int64\n",
       "DayOfWeek                            int64\n",
       "FlightDate                          object\n",
       "Operating_Airline                   object\n",
       "Tail_Number                         object\n",
       "Flight_Number_Operating_Airline      int64\n",
       "OriginAirportID                      int64\n",
       "Origin                              object\n",
       "OriginCityName                      object\n",
       "OriginState                         object\n",
       "DestAirportID                        int64\n",
       "Dest                                object\n",
       "DestCityName                        object\n",
       "DestState                           object\n",
       "CRSDepTime                           int64\n",
       "DepTime                            float64\n",
       "DepDelay                           float64\n",
       "DepDelayMinutes                    float64\n",
       "DepDel15                           float64\n",
       "DepartureDelayGroups               float64\n",
       "DepTimeBlk                          object\n",
       "CRSArrTime                           int64\n",
       "ArrTime                            float64\n",
       "ArrDelay                           float64\n",
       "ArrDelayMinutes                    float64\n",
       "ArrDel15                           float64\n",
       "ArrivalDelayGroups                 float64\n",
       "ArrTimeBlk                          object\n",
       "Cancelled                          float64\n",
       "CancellationCode                    object\n",
       "Diverted                           float64\n",
       "CRSElapsedTime                     float64\n",
       "ActualElapsedTime                  float64\n",
       "AirTime                            float64\n",
       "Distance                           float64\n",
       "DistanceGroup                        int64\n",
       "CarrierDelay                       float64\n",
       "WeatherDelay                       float64\n",
       "NASDelay                           float64\n",
       "SecurityDelay                      float64\n",
       "LateAircraftDelay                  float64\n",
       "dtype: object"
      ]
     },
     "execution_count": 23,
     "metadata": {},
     "output_type": "execute_result"
    }
   ],
   "source": [
    "test_df.dtypes"
   ]
  },
  {
   "cell_type": "code",
   "execution_count": 24,
   "id": "3ed950fd",
   "metadata": {},
   "outputs": [],
   "source": [
    "delay_db_n = [\"delay_db1\",\"delay_db2\",\"delay_db3\",\"delay_db4\",\"delay_db5\",\"delay_db6\",\"delay_db7\",\"delay_db8\",\"delay_db9\",\"delay_db10\",\"delay_db11\",\"delay_db12\"]\n",
    "delay_db_n_half = int(len(delay_db_n)/2)"
   ]
  },
  {
   "cell_type": "code",
   "execution_count": 25,
   "id": "897cc694",
   "metadata": {},
   "outputs": [
    {
     "data": {
      "text/plain": [
       "range(2, 13)"
      ]
     },
     "execution_count": 25,
     "metadata": {},
     "output_type": "execute_result"
    }
   ],
   "source": [
    "range(2, len(delay_db_n)+1)"
   ]
  },
  {
   "cell_type": "code",
   "execution_count": 26,
   "id": "a397ad82",
   "metadata": {},
   "outputs": [
    {
     "name": "stderr",
     "output_type": "stream",
     "text": [
      "/tmp/ipykernel_13972/2734337957.py:9: DtypeWarning: Columns (57) have mixed types. Specify dtype option on import or set low_memory=False.\n",
      "  current_db_aktuell = pd.read_csv(f\"../flight delay project - main/raw_data/On_Time_Marketing_Carrier_On_Time_Performance_(Beginning_January_2018)_2022_{i}.csv\",skip_blank_lines=True,usecols=filter_setup).sample(n=20000)\n"
     ]
    }
   ],
   "source": [
    "current_db_final = pd.read_csv(f\"../flight delay project - main/raw_data/On_Time_Marketing_Carrier_On_Time_Performance_(Beginning_January_2018)_2022_1.csv\",usecols=filter_setup).sample(n=20000,random_state=42)\n",
    "#current_db_final.dropna()\n",
    "current_db_final.select_dtypes(include='int64').astype('int16')\n",
    "current_db_final.select_dtypes(include='float64').astype('float16')\n",
    "\n",
    "#current_db_final.drop(columns=['Year','Quarter','Operated_or_Branded_Code_Share_Partners','DOT_ID_Marketing_Airline','IATA_Code_Marketing_Airline','Originally_Scheduled_Code_Share_Airline','DOT_ID_Originally_Scheduled_Code_Share_Airline','IATA_Code_Originally_Scheduled_Code_Share_Airline','Flight_Num_Originally_Scheduled_Code_Share_Airline','DOT_ID_Operating_Airline','IATA_Code_Operating_Airline','OriginAirportSeqID','OriginCityMarketID','OriginStateFips','OriginWac','DestAirportSeqID','DestCityMarketID','DestStateFips','DestWac','Flights','FirstDepTime','TotalAddGTime','LongestAddGTime','DivAirportLandings','DivReachedDest','DivActualElapsedTime','DivArrDelay','DivDistance','Div1Airport','Div1AirportID','Div1AirportSeqID','Div1WheelsOn','Div1TotalGTime','Div1LongestGTime','Div1WheelsOff','Div1TailNum','Div2Airport','Div2AirportID','Div2AirportSeqID','Div2WheelsOn','Div2TotalGTime','Div2LongestGTime','Div2WheelsOff','Div2TailNum','Div3Airport', 'Div3AirportID', 'Div3AirportSeqID',  'Div3WheelsOn',     'Div3TotalGTime','Div3LongestGTime', 'Div3WheelsOff','Div3TailNum', 'Div4Airport','Div4AirportID','Div4AirportSeqID', 'Div4WheelsOn','Div4TotalGTime','Div4LongestGTime', 'Div4WheelsOff','Div4TailNum','Div5Airport','Div5AirportID','Div5AirportSeqID','Div5WheelsOn', 'Div5TotalGTime', 'Div5LongestGTime', 'Div5WheelsOff', 'Div5TailNum','Duplicate','TaxiOut', 'WheelsOff', 'WheelsOn', 'TaxiIn', 'OriginStateName', 'DestStateName', 'Operating_Airline ', 'Flight_Number_Operating_Airline'])\n",
    "\n",
    "for i in range(2, len(delay_db_n)+1):\n",
    "    current_db_aktuell = pd.read_csv(f\"../flight delay project - main/raw_data/On_Time_Marketing_Carrier_On_Time_Performance_(Beginning_January_2018)_2022_{i}.csv\",skip_blank_lines=True,usecols=filter_setup).sample(n=20000)\n",
    "    #current_db_aktuell.drop(columns=['Year','Quarter','Operated_or_Branded_Code_Share_Partners','DOT_ID_Marketing_Airline','IATA_Code_Marketing_Airline','Originally_Scheduled_Code_Share_Airline','DOT_ID_Originally_Scheduled_Code_Share_Airline','IATA_Code_Originally_Scheduled_Code_Share_Airline','Flight_Num_Originally_Scheduled_Code_Share_Airline','DOT_ID_Operating_Airline','IATA_Code_Operating_Airline','OriginAirportSeqID','OriginCityMarketID','OriginStateFips','OriginWac','DestAirportSeqID','DestCityMarketID','DestStateFips','DestWac','Flights','FirstDepTime','TotalAddGTime','LongestAddGTime','DivAirportLandings','DivReachedDest','DivActualElapsedTime','DivArrDelay','DivDistance','Div1Airport','Div1AirportID','Div1AirportSeqID','Div1WheelsOn','Div1TotalGTime','Div1LongestGTime','Div1WheelsOff','Div1TailNum','Div2Airport','Div2AirportID','Div2AirportSeqID','Div2WheelsOn','Div2TotalGTime','Div2LongestGTime','Div2WheelsOff','Div2TailNum','Div3Airport', 'Div3AirportID', 'Div3AirportSeqID',  'Div3WheelsOn',     'Div3TotalGTime','Div3LongestGTime', 'Div3WheelsOff','Div3TailNum', 'Div4Airport','Div4AirportID','Div4AirportSeqID', 'Div4WheelsOn','Div4TotalGTime','Div4LongestGTime', 'Div4WheelsOff','Div4TailNum','Div5Airport','Div5AirportID','Div5AirportSeqID','Div5WheelsOn', 'Div5TotalGTime', 'Div5LongestGTime', 'Div5WheelsOff', 'Div5TailNum','Duplicate','TaxiOut', 'WheelsOff', 'WheelsOn', 'TaxiIn', 'OriginStateName', 'DestStateName', 'Operating_Airline ', 'Flight_Number_Operating_Airline'])\n",
    "    #current_db_aktuell.dropna()\n",
    "    current_db_aktuell.select_dtypes(include='int64').astype('int16')\n",
    "    current_db_aktuell.select_dtypes(include='float64').astype('float16')\n",
    "    current_db_final= pd.concat([current_db_final,current_db_aktuell])\n",
    "\n",
    "current_db_final.rename(columns={current_db_final.columns[4]: \"Operating_Airline\"},inplace=True)\n"
   ]
  },
  {
   "cell_type": "code",
   "execution_count": 27,
   "id": "72211642",
   "metadata": {},
   "outputs": [
    {
     "data": {
      "text/plain": [
       "Index(['Month', 'DayofMonth', 'DayOfWeek', 'FlightDate', 'Operating_Airline',\n",
       "       'Tail_Number', 'Flight_Number_Operating_Airline', 'OriginAirportID',\n",
       "       'Origin', 'OriginCityName', 'OriginState', 'DestAirportID', 'Dest',\n",
       "       'DestCityName', 'DestState', 'CRSDepTime', 'DepTime', 'DepDelay',\n",
       "       'DepDelayMinutes', 'DepDel15', 'DepartureDelayGroups', 'DepTimeBlk',\n",
       "       'CRSArrTime', 'ArrTime', 'ArrDelay', 'ArrDelayMinutes', 'ArrDel15',\n",
       "       'ArrivalDelayGroups', 'ArrTimeBlk', 'Cancelled', 'CancellationCode',\n",
       "       'Diverted', 'CRSElapsedTime', 'ActualElapsedTime', 'AirTime',\n",
       "       'Distance', 'DistanceGroup', 'CarrierDelay', 'WeatherDelay', 'NASDelay',\n",
       "       'SecurityDelay', 'LateAircraftDelay'],\n",
       "      dtype='object')"
      ]
     },
     "execution_count": 27,
     "metadata": {},
     "output_type": "execute_result"
    }
   ],
   "source": [
    "current_db_final.columns"
   ]
  },
  {
   "cell_type": "code",
   "execution_count": 28,
   "id": "32361737",
   "metadata": {},
   "outputs": [
    {
     "data": {
      "text/plain": [
       "(240000, 42)"
      ]
     },
     "execution_count": 28,
     "metadata": {},
     "output_type": "execute_result"
    }
   ],
   "source": [
    "current_db_final.shape"
   ]
  },
  {
   "cell_type": "code",
   "execution_count": 29,
   "id": "52143b82",
   "metadata": {},
   "outputs": [],
   "source": [
    "import os  \n",
    "#os.makedirs(\"../flight delay project - main/raw_data/\", exist_ok=True)  \n",
    "current_db_final.to_csv('random_data.csv')  "
   ]
  },
  {
   "cell_type": "code",
   "execution_count": 30,
   "id": "59bc94b8",
   "metadata": {},
   "outputs": [
    {
     "data": {
      "text/plain": [
       "(240000, 42)"
      ]
     },
     "execution_count": 30,
     "metadata": {},
     "output_type": "execute_result"
    }
   ],
   "source": [
    "current_db_final[\"Month\"].tail(100)\n",
    "current_db_final.shape"
   ]
  },
  {
   "cell_type": "code",
   "execution_count": 31,
   "id": "c53d69fa",
   "metadata": {},
   "outputs": [
    {
     "data": {
      "text/plain": [
       "(240000, 42)"
      ]
     },
     "execution_count": 31,
     "metadata": {},
     "output_type": "execute_result"
    }
   ],
   "source": [
    "current_db_final.drop_duplicates()\n",
    "current_db_final.shape"
   ]
  },
  {
   "cell_type": "code",
   "execution_count": null,
   "id": "aee7b9ae",
   "metadata": {},
   "outputs": [],
   "source": []
  }
 ],
 "metadata": {
  "kernelspec": {
   "display_name": "Python 3 (ipykernel)",
   "language": "python",
   "name": "python3"
  },
  "language_info": {
   "codemirror_mode": {
    "name": "ipython",
    "version": 3
   },
   "file_extension": ".py",
   "mimetype": "text/x-python",
   "name": "python",
   "nbconvert_exporter": "python",
   "pygments_lexer": "ipython3",
   "version": "3.10.6"
  },
  "toc": {
   "base_numbering": 1,
   "nav_menu": {},
   "number_sections": true,
   "sideBar": true,
   "skip_h1_title": false,
   "title_cell": "Table of Contents",
   "title_sidebar": "Contents",
   "toc_cell": false,
   "toc_position": {},
   "toc_section_display": true,
   "toc_window_display": false
  }
 },
 "nbformat": 4,
 "nbformat_minor": 5
}

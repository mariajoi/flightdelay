{
 "cells": [
  {
   "cell_type": "code",
   "execution_count": 2,
   "id": "838d3051",
   "metadata": {},
   "outputs": [],
   "source": [
    "import pandas as pd"
   ]
  },
  {
   "cell_type": "code",
   "execution_count": 14,
   "id": "392cfb83",
   "metadata": {
    "scrolled": false
   },
   "outputs": [
    {
     "ename": "FileNotFoundError",
     "evalue": "[Errno 2] No such file or directory: '..\\\\home\\\\maria\\\\code\\\\mariajoi\\x0clightdelay\\raw_data\\x822_2.csv'",
     "output_type": "error",
     "traceback": [
      "\u001b[1;31m---------------------------------------------------------------------------\u001b[0m",
      "\u001b[1;31mFileNotFoundError\u001b[0m                         Traceback (most recent call last)",
      "\u001b[1;32mUbuntu\\home\\maria\\code\\mariajoi\\flightdelay\\notebooks\\mariajoi_out_of_project_analysis.ipynb Cell 2\u001b[0m line \u001b[0;36m1\n\u001b[1;32m----> <a href='vscode-notebook-cell://wsl.localhost/Ubuntu/home/maria/code/mariajoi/flightdelay/notebooks/mariajoi_out_of_project_analysis.ipynb#W1sZmlsZQ%3D%3D?line=0'>1</a>\u001b[0m df2 \u001b[39m=\u001b[39m pd\u001b[39m.\u001b[39mread_csv(\u001b[39m'\u001b[39m\u001b[39m..\u001b[39m\u001b[39m\\\u001b[39m\u001b[39mhome\u001b[39m\u001b[39m\\\u001b[39m\u001b[39mmaria\u001b[39m\u001b[39m\\\u001b[39m\u001b[39mcode\u001b[39m\u001b[39m\\\u001b[39m\u001b[39mmariajoi\u001b[39m\u001b[39m\\f\u001b[39;00m\u001b[39mlightdelay\u001b[39m\u001b[39m\\r\u001b[39;00m\u001b[39maw_data\u001b[39m\u001b[39m\\202\u001b[39;00m\u001b[39m2_2.csv\u001b[39m\u001b[39m'\u001b[39m)\n\u001b[0;32m      <a href='vscode-notebook-cell://wsl.localhost/Ubuntu/home/maria/code/mariajoi/flightdelay/notebooks/mariajoi_out_of_project_analysis.ipynb#W1sZmlsZQ%3D%3D?line=2'>3</a>\u001b[0m df2\u001b[39m.\u001b[39mshape()\n",
      "File \u001b[1;32mc:\\Users\\maria\\anaconda3\\Lib\\site-packages\\pandas\\io\\parsers\\readers.py:912\u001b[0m, in \u001b[0;36mread_csv\u001b[1;34m(filepath_or_buffer, sep, delimiter, header, names, index_col, usecols, dtype, engine, converters, true_values, false_values, skipinitialspace, skiprows, skipfooter, nrows, na_values, keep_default_na, na_filter, verbose, skip_blank_lines, parse_dates, infer_datetime_format, keep_date_col, date_parser, date_format, dayfirst, cache_dates, iterator, chunksize, compression, thousands, decimal, lineterminator, quotechar, quoting, doublequote, escapechar, comment, encoding, encoding_errors, dialect, on_bad_lines, delim_whitespace, low_memory, memory_map, float_precision, storage_options, dtype_backend)\u001b[0m\n\u001b[0;32m    899\u001b[0m kwds_defaults \u001b[39m=\u001b[39m _refine_defaults_read(\n\u001b[0;32m    900\u001b[0m     dialect,\n\u001b[0;32m    901\u001b[0m     delimiter,\n\u001b[1;32m   (...)\u001b[0m\n\u001b[0;32m    908\u001b[0m     dtype_backend\u001b[39m=\u001b[39mdtype_backend,\n\u001b[0;32m    909\u001b[0m )\n\u001b[0;32m    910\u001b[0m kwds\u001b[39m.\u001b[39mupdate(kwds_defaults)\n\u001b[1;32m--> 912\u001b[0m \u001b[39mreturn\u001b[39;00m _read(filepath_or_buffer, kwds)\n",
      "File \u001b[1;32mc:\\Users\\maria\\anaconda3\\Lib\\site-packages\\pandas\\io\\parsers\\readers.py:577\u001b[0m, in \u001b[0;36m_read\u001b[1;34m(filepath_or_buffer, kwds)\u001b[0m\n\u001b[0;32m    574\u001b[0m _validate_names(kwds\u001b[39m.\u001b[39mget(\u001b[39m\"\u001b[39m\u001b[39mnames\u001b[39m\u001b[39m\"\u001b[39m, \u001b[39mNone\u001b[39;00m))\n\u001b[0;32m    576\u001b[0m \u001b[39m# Create the parser.\u001b[39;00m\n\u001b[1;32m--> 577\u001b[0m parser \u001b[39m=\u001b[39m TextFileReader(filepath_or_buffer, \u001b[39m*\u001b[39m\u001b[39m*\u001b[39mkwds)\n\u001b[0;32m    579\u001b[0m \u001b[39mif\u001b[39;00m chunksize \u001b[39mor\u001b[39;00m iterator:\n\u001b[0;32m    580\u001b[0m     \u001b[39mreturn\u001b[39;00m parser\n",
      "File \u001b[1;32mc:\\Users\\maria\\anaconda3\\Lib\\site-packages\\pandas\\io\\parsers\\readers.py:1407\u001b[0m, in \u001b[0;36mTextFileReader.__init__\u001b[1;34m(self, f, engine, **kwds)\u001b[0m\n\u001b[0;32m   1404\u001b[0m     \u001b[39mself\u001b[39m\u001b[39m.\u001b[39moptions[\u001b[39m\"\u001b[39m\u001b[39mhas_index_names\u001b[39m\u001b[39m\"\u001b[39m] \u001b[39m=\u001b[39m kwds[\u001b[39m\"\u001b[39m\u001b[39mhas_index_names\u001b[39m\u001b[39m\"\u001b[39m]\n\u001b[0;32m   1406\u001b[0m \u001b[39mself\u001b[39m\u001b[39m.\u001b[39mhandles: IOHandles \u001b[39m|\u001b[39m \u001b[39mNone\u001b[39;00m \u001b[39m=\u001b[39m \u001b[39mNone\u001b[39;00m\n\u001b[1;32m-> 1407\u001b[0m \u001b[39mself\u001b[39m\u001b[39m.\u001b[39m_engine \u001b[39m=\u001b[39m \u001b[39mself\u001b[39m\u001b[39m.\u001b[39m_make_engine(f, \u001b[39mself\u001b[39m\u001b[39m.\u001b[39mengine)\n",
      "File \u001b[1;32mc:\\Users\\maria\\anaconda3\\Lib\\site-packages\\pandas\\io\\parsers\\readers.py:1661\u001b[0m, in \u001b[0;36mTextFileReader._make_engine\u001b[1;34m(self, f, engine)\u001b[0m\n\u001b[0;32m   1659\u001b[0m     \u001b[39mif\u001b[39;00m \u001b[39m\"\u001b[39m\u001b[39mb\u001b[39m\u001b[39m\"\u001b[39m \u001b[39mnot\u001b[39;00m \u001b[39min\u001b[39;00m mode:\n\u001b[0;32m   1660\u001b[0m         mode \u001b[39m+\u001b[39m\u001b[39m=\u001b[39m \u001b[39m\"\u001b[39m\u001b[39mb\u001b[39m\u001b[39m\"\u001b[39m\n\u001b[1;32m-> 1661\u001b[0m \u001b[39mself\u001b[39m\u001b[39m.\u001b[39mhandles \u001b[39m=\u001b[39m get_handle(\n\u001b[0;32m   1662\u001b[0m     f,\n\u001b[0;32m   1663\u001b[0m     mode,\n\u001b[0;32m   1664\u001b[0m     encoding\u001b[39m=\u001b[39m\u001b[39mself\u001b[39m\u001b[39m.\u001b[39moptions\u001b[39m.\u001b[39mget(\u001b[39m\"\u001b[39m\u001b[39mencoding\u001b[39m\u001b[39m\"\u001b[39m, \u001b[39mNone\u001b[39;00m),\n\u001b[0;32m   1665\u001b[0m     compression\u001b[39m=\u001b[39m\u001b[39mself\u001b[39m\u001b[39m.\u001b[39moptions\u001b[39m.\u001b[39mget(\u001b[39m\"\u001b[39m\u001b[39mcompression\u001b[39m\u001b[39m\"\u001b[39m, \u001b[39mNone\u001b[39;00m),\n\u001b[0;32m   1666\u001b[0m     memory_map\u001b[39m=\u001b[39m\u001b[39mself\u001b[39m\u001b[39m.\u001b[39moptions\u001b[39m.\u001b[39mget(\u001b[39m\"\u001b[39m\u001b[39mmemory_map\u001b[39m\u001b[39m\"\u001b[39m, \u001b[39mFalse\u001b[39;00m),\n\u001b[0;32m   1667\u001b[0m     is_text\u001b[39m=\u001b[39mis_text,\n\u001b[0;32m   1668\u001b[0m     errors\u001b[39m=\u001b[39m\u001b[39mself\u001b[39m\u001b[39m.\u001b[39moptions\u001b[39m.\u001b[39mget(\u001b[39m\"\u001b[39m\u001b[39mencoding_errors\u001b[39m\u001b[39m\"\u001b[39m, \u001b[39m\"\u001b[39m\u001b[39mstrict\u001b[39m\u001b[39m\"\u001b[39m),\n\u001b[0;32m   1669\u001b[0m     storage_options\u001b[39m=\u001b[39m\u001b[39mself\u001b[39m\u001b[39m.\u001b[39moptions\u001b[39m.\u001b[39mget(\u001b[39m\"\u001b[39m\u001b[39mstorage_options\u001b[39m\u001b[39m\"\u001b[39m, \u001b[39mNone\u001b[39;00m),\n\u001b[0;32m   1670\u001b[0m )\n\u001b[0;32m   1671\u001b[0m \u001b[39massert\u001b[39;00m \u001b[39mself\u001b[39m\u001b[39m.\u001b[39mhandles \u001b[39mis\u001b[39;00m \u001b[39mnot\u001b[39;00m \u001b[39mNone\u001b[39;00m\n\u001b[0;32m   1672\u001b[0m f \u001b[39m=\u001b[39m \u001b[39mself\u001b[39m\u001b[39m.\u001b[39mhandles\u001b[39m.\u001b[39mhandle\n",
      "File \u001b[1;32mc:\\Users\\maria\\anaconda3\\Lib\\site-packages\\pandas\\io\\common.py:859\u001b[0m, in \u001b[0;36mget_handle\u001b[1;34m(path_or_buf, mode, encoding, compression, memory_map, is_text, errors, storage_options)\u001b[0m\n\u001b[0;32m    854\u001b[0m \u001b[39melif\u001b[39;00m \u001b[39misinstance\u001b[39m(handle, \u001b[39mstr\u001b[39m):\n\u001b[0;32m    855\u001b[0m     \u001b[39m# Check whether the filename is to be opened in binary mode.\u001b[39;00m\n\u001b[0;32m    856\u001b[0m     \u001b[39m# Binary mode does not support 'encoding' and 'newline'.\u001b[39;00m\n\u001b[0;32m    857\u001b[0m     \u001b[39mif\u001b[39;00m ioargs\u001b[39m.\u001b[39mencoding \u001b[39mand\u001b[39;00m \u001b[39m\"\u001b[39m\u001b[39mb\u001b[39m\u001b[39m\"\u001b[39m \u001b[39mnot\u001b[39;00m \u001b[39min\u001b[39;00m ioargs\u001b[39m.\u001b[39mmode:\n\u001b[0;32m    858\u001b[0m         \u001b[39m# Encoding\u001b[39;00m\n\u001b[1;32m--> 859\u001b[0m         handle \u001b[39m=\u001b[39m \u001b[39mopen\u001b[39m(\n\u001b[0;32m    860\u001b[0m             handle,\n\u001b[0;32m    861\u001b[0m             ioargs\u001b[39m.\u001b[39mmode,\n\u001b[0;32m    862\u001b[0m             encoding\u001b[39m=\u001b[39mioargs\u001b[39m.\u001b[39mencoding,\n\u001b[0;32m    863\u001b[0m             errors\u001b[39m=\u001b[39merrors,\n\u001b[0;32m    864\u001b[0m             newline\u001b[39m=\u001b[39m\u001b[39m\"\u001b[39m\u001b[39m\"\u001b[39m,\n\u001b[0;32m    865\u001b[0m         )\n\u001b[0;32m    866\u001b[0m     \u001b[39melse\u001b[39;00m:\n\u001b[0;32m    867\u001b[0m         \u001b[39m# Binary mode\u001b[39;00m\n\u001b[0;32m    868\u001b[0m         handle \u001b[39m=\u001b[39m \u001b[39mopen\u001b[39m(handle, ioargs\u001b[39m.\u001b[39mmode)\n",
      "\u001b[1;31mFileNotFoundError\u001b[0m: [Errno 2] No such file or directory: '..\\\\home\\\\maria\\\\code\\\\mariajoi\\x0clightdelay\\raw_data\\x822_2.csv'"
     ]
    }
   ],
   "source": [
    "df2 = pd.read_csv('random_data.csv')\n",
    "\n",
    "df2.shape()"
   ]
  },
  {
   "cell_type": "code",
   "execution_count": null,
   "id": "63c07324",
   "metadata": {},
   "outputs": [
    {
     "data": {
      "text/plain": [
       "Index(['Year', 'Quarter', 'Month', 'DayofMonth', 'DayOfWeek', 'FlightDate',\n",
       "       'Marketing_Airline_Network', 'Operated_or_Branded_Code_Share_Partners',\n",
       "       'DOT_ID_Marketing_Airline', 'IATA_Code_Marketing_Airline',\n",
       "       ...\n",
       "       'Div5Airport', 'Div5AirportID', 'Div5AirportSeqID', 'Div5WheelsOn',\n",
       "       'Div5TotalGTime', 'Div5LongestGTime', 'Div5WheelsOff', 'Div5TailNum',\n",
       "       'Duplicate', 'Unnamed: 119'],\n",
       "      dtype='object', length=120)"
      ]
     },
     "execution_count": 4,
     "metadata": {},
     "output_type": "execute_result"
    }
   ],
   "source": [
    "df2.columns"
   ]
  },
  {
   "cell_type": "code",
   "execution_count": 5,
   "id": "2d42bb3d",
   "metadata": {},
   "outputs": [
    {
     "name": "stdout",
     "output_type": "stream",
     "text": [
      "Year\n",
      "Quarter\n",
      "Month\n",
      "DayofMonth\n",
      "DayOfWeek\n",
      "FlightDate\n",
      "Marketing_Airline_Network\n",
      "Operated_or_Branded_Code_Share_Partners\n",
      "DOT_ID_Marketing_Airline\n",
      "IATA_Code_Marketing_Airline\n",
      "Flight_Number_Marketing_Airline\n",
      "Originally_Scheduled_Code_Share_Airline\n",
      "DOT_ID_Originally_Scheduled_Code_Share_Airline\n",
      "IATA_Code_Originally_Scheduled_Code_Share_Airline\n",
      "Flight_Num_Originally_Scheduled_Code_Share_Airline\n",
      "Operating_Airline \n",
      "DOT_ID_Operating_Airline\n",
      "IATA_Code_Operating_Airline\n",
      "Tail_Number\n",
      "Flight_Number_Operating_Airline\n",
      "OriginAirportID\n",
      "OriginAirportSeqID\n",
      "OriginCityMarketID\n",
      "Origin\n",
      "OriginCityName\n",
      "OriginState\n",
      "OriginStateFips\n",
      "OriginStateName\n",
      "OriginWac\n",
      "DestAirportID\n",
      "DestAirportSeqID\n",
      "DestCityMarketID\n",
      "Dest\n",
      "DestCityName\n",
      "DestState\n",
      "DestStateFips\n",
      "DestStateName\n",
      "DestWac\n",
      "CRSDepTime\n",
      "DepTime\n",
      "DepDelay\n",
      "DepDelayMinutes\n",
      "DepDel15\n",
      "DepartureDelayGroups\n",
      "DepTimeBlk\n",
      "TaxiOut\n",
      "WheelsOff\n",
      "WheelsOn\n",
      "TaxiIn\n",
      "CRSArrTime\n",
      "ArrTime\n",
      "ArrDelay\n",
      "ArrDelayMinutes\n",
      "ArrDel15\n",
      "ArrivalDelayGroups\n",
      "ArrTimeBlk\n",
      "Cancelled\n",
      "CancellationCode\n",
      "Diverted\n",
      "CRSElapsedTime\n",
      "ActualElapsedTime\n",
      "AirTime\n",
      "Flights\n",
      "Distance\n",
      "DistanceGroup\n",
      "CarrierDelay\n",
      "WeatherDelay\n",
      "NASDelay\n",
      "SecurityDelay\n",
      "LateAircraftDelay\n",
      "FirstDepTime\n",
      "TotalAddGTime\n",
      "LongestAddGTime\n",
      "DivAirportLandings\n",
      "DivReachedDest\n",
      "DivActualElapsedTime\n",
      "DivArrDelay\n",
      "DivDistance\n",
      "Div1Airport\n",
      "Div1AirportID\n",
      "Div1AirportSeqID\n",
      "Div1WheelsOn\n",
      "Div1TotalGTime\n",
      "Div1LongestGTime\n",
      "Div1WheelsOff\n",
      "Div1TailNum\n",
      "Div2Airport\n",
      "Div2AirportID\n",
      "Div2AirportSeqID\n",
      "Div2WheelsOn\n",
      "Div2TotalGTime\n",
      "Div2LongestGTime\n",
      "Div2WheelsOff\n",
      "Div2TailNum\n",
      "Div3Airport\n",
      "Div3AirportID\n",
      "Div3AirportSeqID\n",
      "Div3WheelsOn\n",
      "Div3TotalGTime\n",
      "Div3LongestGTime\n",
      "Div3WheelsOff\n",
      "Div3TailNum\n",
      "Div4Airport\n",
      "Div4AirportID\n",
      "Div4AirportSeqID\n",
      "Div4WheelsOn\n",
      "Div4TotalGTime\n",
      "Div4LongestGTime\n",
      "Div4WheelsOff\n",
      "Div4TailNum\n",
      "Div5Airport\n",
      "Div5AirportID\n",
      "Div5AirportSeqID\n",
      "Div5WheelsOn\n",
      "Div5TotalGTime\n",
      "Div5LongestGTime\n",
      "Div5WheelsOff\n",
      "Div5TailNum\n",
      "Duplicate\n",
      "Unnamed: 119\n"
     ]
    }
   ],
   "source": [
    "for i in test_df:\n",
    "    print(i)\n",
    "\n",
    "\n",
    "Month\tDayofMonth\tDayOfWeek\tFlightDate\tMarketing_Airline_Network\tFlight_Number_Marketing_Airline\tTail_Number\tOriginAirportID\tOrigin\tOriginCityName\tOriginState\tDestAirportID\tDest\tDestCityName\tDestState\tCRSDepTime\tDepTime\tDepDelay\tDepDelayMinutes\tDepDel15\tDepartureDelayGroups\tDepTimeBlk\tCRSArrTime\tArrTime\tArrDelay\tArrDelayMinutes\tArrDel15\tArrivalDelayGroups\tArrTimeBlk\tCancelled\tCancellationCode\tDiverted\tCRSElapsedTime\tActualElapsedTime\tAirTime\tDistance\tDistanceGroup\tCarrierDelay\tWeatherDelay\tNASDelay\tSecurityDelay\tLateAircraftDelay\n"
   ]
  },
  {
   "cell_type": "code",
   "execution_count": 7,
   "id": "0d3ebe39",
   "metadata": {},
   "outputs": [
    {
     "data": {
      "text/plain": [
       "Year                  int64\n",
       "Quarter               int64\n",
       "Month                 int64\n",
       "DayofMonth            int64\n",
       "DayOfWeek             int64\n",
       "                     ...   \n",
       "Div5LongestGTime    float64\n",
       "Div5WheelsOff       float64\n",
       "Div5TailNum         float64\n",
       "Duplicate            object\n",
       "Unnamed: 119        float64\n",
       "Length: 120, dtype: object"
      ]
     },
     "execution_count": 7,
     "metadata": {},
     "output_type": "execute_result"
    }
   ],
   "source": [
    "test_df.dtypes"
   ]
  },
  {
   "cell_type": "code",
   "execution_count": 10,
   "id": "3ed950fd",
   "metadata": {},
   "outputs": [],
   "source": [
    "delay_db_n = [\"delay_db1\",\"delay_db2\",\"delay_db3\",\"delay_db4\",\"delay_db5\",\"delay_db6\",\"delay_db7\",\"delay_db8\",\"delay_db9\",\"delay_db10\",\"delay_db11\",\"delay_db12\"]"
   ]
  },
  {
   "cell_type": "code",
   "execution_count": 11,
   "id": "897cc694",
   "metadata": {},
   "outputs": [
    {
     "data": {
      "text/plain": [
       "range(2, 12)"
      ]
     },
     "execution_count": 11,
     "metadata": {},
     "output_type": "execute_result"
    }
   ],
   "source": [
    "range(2, len(delay_db_n))"
   ]
  },
  {
   "cell_type": "code",
   "execution_count": null,
   "id": "a397ad82",
   "metadata": {},
   "outputs": [
    {
     "name": "stderr",
     "output_type": "stream",
     "text": [
      "/tmp/ipykernel_144491/359871974.py:1: DtypeWarning: Columns (11,13,78,85,86,93) have mixed types. Specify dtype option on import or set low_memory=False.\n",
      "  current_db_final = pd.read_csv(f\"../flight delay project - main/raw_data/On_Time_Marketing_Carrier_On_Time_Performance_(Beginning_January_2018)_2022_1.csv\")\n",
      "/tmp/ipykernel_144491/359871974.py:5: DtypeWarning: Columns (11,13,78,85,86,93) have mixed types. Specify dtype option on import or set low_memory=False.\n",
      "  current_db_aktuell = pd.read_csv(f\"../flight delay project - main/raw_data/On_Time_Marketing_Carrier_On_Time_Performance_(Beginning_January_2018)_2022_{i}.csv\")\n",
      "/tmp/ipykernel_144491/359871974.py:5: DtypeWarning: Columns (11,13,86,93,94) have mixed types. Specify dtype option on import or set low_memory=False.\n",
      "  current_db_aktuell = pd.read_csv(f\"../flight delay project - main/raw_data/On_Time_Marketing_Carrier_On_Time_Performance_(Beginning_January_2018)_2022_{i}.csv\")\n",
      "/tmp/ipykernel_144491/359871974.py:5: DtypeWarning: Columns (11,13,86,93) have mixed types. Specify dtype option on import or set low_memory=False.\n",
      "  current_db_aktuell = pd.read_csv(f\"../flight delay project - main/raw_data/On_Time_Marketing_Carrier_On_Time_Performance_(Beginning_January_2018)_2022_{i}.csv\")\n",
      "/tmp/ipykernel_144491/359871974.py:5: DtypeWarning: Columns (11,13,86,93) have mixed types. Specify dtype option on import or set low_memory=False.\n",
      "  current_db_aktuell = pd.read_csv(f\"../flight delay project - main/raw_data/On_Time_Marketing_Carrier_On_Time_Performance_(Beginning_January_2018)_2022_{i}.csv\")\n",
      "/tmp/ipykernel_144491/359871974.py:5: DtypeWarning: Columns (11,13,85,86,93) have mixed types. Specify dtype option on import or set low_memory=False.\n",
      "  current_db_aktuell = pd.read_csv(f\"../flight delay project - main/raw_data/On_Time_Marketing_Carrier_On_Time_Performance_(Beginning_January_2018)_2022_{i}.csv\")\n",
      "/tmp/ipykernel_144491/359871974.py:5: DtypeWarning: Columns (11,13,86,93) have mixed types. Specify dtype option on import or set low_memory=False.\n",
      "  current_db_aktuell = pd.read_csv(f\"../flight delay project - main/raw_data/On_Time_Marketing_Carrier_On_Time_Performance_(Beginning_January_2018)_2022_{i}.csv\")\n",
      "/tmp/ipykernel_144491/359871974.py:5: DtypeWarning: Columns (11,13,86,93) have mixed types. Specify dtype option on import or set low_memory=False.\n",
      "  current_db_aktuell = pd.read_csv(f\"../flight delay project - main/raw_data/On_Time_Marketing_Carrier_On_Time_Performance_(Beginning_January_2018)_2022_{i}.csv\")\n",
      "/tmp/ipykernel_144491/359871974.py:5: DtypeWarning: Columns (11,13,85,86,93) have mixed types. Specify dtype option on import or set low_memory=False.\n",
      "  current_db_aktuell = pd.read_csv(f\"../flight delay project - main/raw_data/On_Time_Marketing_Carrier_On_Time_Performance_(Beginning_January_2018)_2022_{i}.csv\")\n",
      "/tmp/ipykernel_144491/359871974.py:5: DtypeWarning: Columns (11,13,86,93) have mixed types. Specify dtype option on import or set low_memory=False.\n",
      "  current_db_aktuell = pd.read_csv(f\"../flight delay project - main/raw_data/On_Time_Marketing_Carrier_On_Time_Performance_(Beginning_January_2018)_2022_{i}.csv\")\n"
     ]
    }
   ],
   "source": [
    "current_db_final = pd.read_csv(f\"raw_data/On_Time_Marketing_Carrier_On_Time_Performance_(Beginning_January_2018)_2022_1.csv\")\n",
    "current_db_final.drop(columns=['Year','Quarter','Operated_or_Branded_Code_Share_Partners','DOT_ID_Marketing_Airline','IATA_Code_Marketing_Airline','Originally_Scheduled_Code_Share_Airline','DOT_ID_Originally_Scheduled_Code_Share_Airline','IATA_Code_Originally_Scheduled_Code_Share_Airline','Flight_Num_Originally_Scheduled_Code_Share_Airline','DOT_ID_Operating_Airline','IATA_Code_Operating_Airline','OriginAirportSeqID','OriginCityMarketID','OriginStateFips','OriginWac','DestAirportSeqID','DestCityMarketID','DestStateFips','DestWac','Flights','FirstDepTime','TotalAddGTime','LongestAddGTime','DivAirportLandings','DivReachedDest','DivActualElapsedTime','DivArrDelay','DivDistance','Div1Airport','Div1AirportID','Div1AirportSeqID','Div1WheelsOn','Div1TotalGTime','Div1LongestGTime','Div1WheelsOff','Div1TailNum','Div2Airport','Div2AirportID','Div2AirportSeqID','Div2WheelsOn','Div2TotalGTime','Div2LongestGTime','Div2WheelsOff','Div2TailNum','Div3Airport', 'Div3AirportID', 'Div3AirportSeqID',  'Div3WheelsOn',     'Div3TotalGTime','Div3LongestGTime', 'Div3WheelsOff','Div3TailNum', 'Div4Airport','Div4AirportID','Div4AirportSeqID', 'Div4WheelsOn','Div4TotalGTime','Div4LongestGTime', 'Div4WheelsOff','Div4TailNum','Div5Airport','Div5AirportID','Div5AirportSeqID','Div5WheelsOn', 'Div5TotalGTime', 'Div5LongestGTime', 'Div5WheelsOff', 'Div5TailNum','Duplicate','TaxiOut', 'WheelsOff', 'WheelsOn', 'TaxiIn', 'OriginStateName', 'DestStateName', 'Operating_Airline ', 'Flight_Number_Operating_Airline'])\n",
    "\n",
    "for i in range(2, len(delay_db_n)):\n",
    "    current_db_aktuell = pd.read_csv(f\"../flight delay project - main/raw_data/On_Time_Marketing_Carrier_On_Time_Performance_(Beginning_January_2018)_2022_{i}.csv\")\n",
    "    current_db_aktuell.drop(columns=['Year','Quarter','Operated_or_Branded_Code_Share_Partners','DOT_ID_Marketing_Airline','IATA_Code_Marketing_Airline','Originally_Scheduled_Code_Share_Airline','DOT_ID_Originally_Scheduled_Code_Share_Airline','IATA_Code_Originally_Scheduled_Code_Share_Airline','Flight_Num_Originally_Scheduled_Code_Share_Airline','DOT_ID_Operating_Airline','IATA_Code_Operating_Airline','OriginAirportSeqID','OriginCityMarketID','OriginStateFips','OriginWac','DestAirportSeqID','DestCityMarketID','DestStateFips','DestWac','Flights','FirstDepTime','TotalAddGTime','LongestAddGTime','DivAirportLandings','DivReachedDest','DivActualElapsedTime','DivArrDelay','DivDistance','Div1Airport','Div1AirportID','Div1AirportSeqID','Div1WheelsOn','Div1TotalGTime','Div1LongestGTime','Div1WheelsOff','Div1TailNum','Div2Airport','Div2AirportID','Div2AirportSeqID','Div2WheelsOn','Div2TotalGTime','Div2LongestGTime','Div2WheelsOff','Div2TailNum','Div3Airport', 'Div3AirportID', 'Div3AirportSeqID',  'Div3WheelsOn',     'Div3TotalGTime','Div3LongestGTime', 'Div3WheelsOff','Div3TailNum', 'Div4Airport','Div4AirportID','Div4AirportSeqID', 'Div4WheelsOn','Div4TotalGTime','Div4LongestGTime', 'Div4WheelsOff','Div4TailNum','Div5Airport','Div5AirportID','Div5AirportSeqID','Div5WheelsOn', 'Div5TotalGTime', 'Div5LongestGTime', 'Div5WheelsOff', 'Div5TailNum','Duplicate','TaxiOut', 'WheelsOff', 'WheelsOn', 'TaxiIn', 'OriginStateName', 'DestStateName', 'Operating_Airline ', 'Flight_Number_Operating_Airline'])\n",
    "    current_db_final= pd.concat([current_db_final,current_db_aktuell])"
   ]
  },
  {
   "cell_type": "code",
   "execution_count": null,
   "id": "71759fdf",
   "metadata": {},
   "outputs": [],
   "source": []
  }
 ],
 "metadata": {
  "kernelspec": {
   "display_name": "Python 3 (ipykernel)",
   "language": "python",
   "name": "python3"
  },
  "language_info": {
   "codemirror_mode": {
    "name": "ipython",
    "version": 3
   },
   "file_extension": ".py",
   "mimetype": "text/x-python",
   "name": "python",
   "nbconvert_exporter": "python",
   "pygments_lexer": "ipython3",
   "version": "3.11.5"
  },
  "toc": {
   "base_numbering": 1,
   "nav_menu": {},
   "number_sections": true,
   "sideBar": true,
   "skip_h1_title": false,
   "title_cell": "Table of Contents",
   "title_sidebar": "Contents",
   "toc_cell": false,
   "toc_position": {},
   "toc_section_display": true,
   "toc_window_display": false
  }
 },
 "nbformat": 4,
 "nbformat_minor": 5
}

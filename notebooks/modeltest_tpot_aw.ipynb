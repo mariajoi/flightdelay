{
 "cells": [
  {
   "cell_type": "code",
   "execution_count": 1,
   "id": "9c65303f",
   "metadata": {},
   "outputs": [
    {
     "data": {
      "text/plain": [
       "'/home/alex/code/Korsas/final_project/mariajoi/flightdelay/notebooks'"
      ]
     },
     "execution_count": 1,
     "metadata": {},
     "output_type": "execute_result"
    }
   ],
   "source": [
    "import pandas as pd\n",
    "import pickle\n",
    "from sklearn.model_selection import GridSearchCV\n",
    "from sklearn.metrics import make_scorer, precision_score, recall_score, accuracy_score, f1_score\n",
    "from sklearn.model_selection import cross_val_score\n",
    "from sklearn.tree import DecisionTreeClassifier\n",
    "from sklearn.ensemble import RandomForestClassifier\n",
    "from sklearn.metrics import confusion_matrix\n",
    "from sklearn.pipeline import make_pipeline\n",
    "from sklearn.ensemble import GradientBoostingClassifier\n",
    "from sklearn.ensemble import AdaBoostClassifier\n",
    "from sklearn.metrics import confusion_matrix\n",
    "%pwd"
   ]
  },
  {
   "cell_type": "code",
   "execution_count": 2,
   "id": "5d23a2c5",
   "metadata": {},
   "outputs": [
    {
     "name": "stdout",
     "output_type": "stream",
     "text": [
      "/home/alex/code/Korsas/final_project/mariajoi/flightdelay/flightdelay/utils\n"
     ]
    },
    {
     "name": "stderr",
     "output_type": "stream",
     "text": [
      "/home/alex/.pyenv/versions/3.10.6/envs/flightdelay/lib/python3.10/site-packages/IPython/core/magics/osm.py:417: UserWarning: using dhist requires you to install the `pickleshare` library.\n",
      "  self.shell.db['dhist'] = compress_dhist(dhist)[-100:]\n"
     ]
    }
   ],
   "source": [
    "%cd ../flightdelay/utils\n",
    "from mytrans import MyTrans"
   ]
  },
  {
   "cell_type": "code",
   "execution_count": 3,
   "id": "5cbd47bb",
   "metadata": {},
   "outputs": [],
   "source": [
    "df_test = pd.read_csv(\"../data/test_sample.csv\")\n",
    "df_test = df_test.drop(\"Unnamed: 0\", axis = 1)\n"
   ]
  },
  {
   "cell_type": "code",
   "execution_count": 4,
   "id": "1afe7c7f",
   "metadata": {},
   "outputs": [],
   "source": [
    "df_train = pd.read_csv(\"../data/train_sample.csv\")\n",
    "df_train = df_train.drop(\"Unnamed: 0\", axis = 1)"
   ]
  },
  {
   "cell_type": "code",
   "execution_count": 5,
   "id": "9c4571e0",
   "metadata": {},
   "outputs": [],
   "source": [
    "\n",
    "X_test = df_test.drop(columns=['Tail_Number', 'CarrierDelay', 'WeatherDelay', 'NASDelay',\n",
    "       'SecurityDelay', 'LateAircraftDelay',\n",
    "             'Distance', 'ArrTime', 'ArrDelay', 'ArrDelayMinutes', 'ArrDel15',\n",
    "       'ArrivalDelayGroups','CRSDepTime', 'CRSArrTime' , 'Cancelled', 'CancellationCode',\n",
    "       'Diverted', 'CRSElapsedTime', 'ActualElapsedTime', 'AirTime', 'DepTime', 'DepDelay',\n",
    "       'DepDelayMinutes', 'DepDel15', 'DepartureDelayGroups',\n",
    "        'DestCityName', 'DestState', 'OriginCityName', 'OriginState', 'DestAirportID',\n",
    "     'Flight_Number_Operating_Airline', 'OriginAirportID','FlightDate','DayofMonth'])\n",
    "\n",
    "X_train = df_train.drop(columns=['Tail_Number', 'CarrierDelay', 'WeatherDelay', 'NASDelay',\n",
    "       'SecurityDelay', 'LateAircraftDelay',\n",
    "             'Distance', 'ArrTime', 'ArrDelay', 'ArrDelayMinutes', 'ArrDel15',\n",
    "       'ArrivalDelayGroups','CRSDepTime', 'CRSArrTime' , 'Cancelled', 'CancellationCode',\n",
    "       'Diverted', 'CRSElapsedTime', 'ActualElapsedTime', 'AirTime', 'DepTime', 'DepDelay',\n",
    "       'DepDelayMinutes', 'DepDel15', 'DepartureDelayGroups',\n",
    "        'DestCityName', 'DestState', 'OriginCityName', 'OriginState', 'DestAirportID',\n",
    "     'Flight_Number_Operating_Airline', 'OriginAirportID','FlightDate','DayofMonth'])"
   ]
  },
  {
   "cell_type": "code",
   "execution_count": 6,
   "id": "9912f0ea",
   "metadata": {},
   "outputs": [],
   "source": [
    "df_train[\"BadFlight\"] = ((df_train['ArrivalDelayGroups'] > 0) | (df_train['Cancelled'] > 0)).astype(int)\n",
    "y_train = df_train[\"BadFlight\"]\n",
    "\n",
    "df_test[\"BadFlight\"] = ((df_test['ArrivalDelayGroups'] > 0) | (df_test['Cancelled'] > 0)).astype(int)\n",
    "y_test = df_test[\"BadFlight\"]"
   ]
  },
  {
   "cell_type": "code",
   "execution_count": 7,
   "id": "a7069856",
   "metadata": {},
   "outputs": [],
   "source": [
    "trans = MyTrans()\n",
    "trans.fit(X_train)\n",
    "X_train_trans =trans.transform(X_train)"
   ]
  },
  {
   "cell_type": "code",
   "execution_count": 8,
   "id": "d4ee806b",
   "metadata": {},
   "outputs": [],
   "source": [
    "trans = MyTrans()\n",
    "trans.fit(X_test)\n",
    "X_test_trans =trans.transform(X_test)"
   ]
  },
  {
   "cell_type": "code",
   "execution_count": 9,
   "id": "054e0950",
   "metadata": {},
   "outputs": [
    {
     "data": {
      "text/html": [
       "<style>#sk-container-id-1 {color: black;}#sk-container-id-1 pre{padding: 0;}#sk-container-id-1 div.sk-toggleable {background-color: white;}#sk-container-id-1 label.sk-toggleable__label {cursor: pointer;display: block;width: 100%;margin-bottom: 0;padding: 0.3em;box-sizing: border-box;text-align: center;}#sk-container-id-1 label.sk-toggleable__label-arrow:before {content: \"▸\";float: left;margin-right: 0.25em;color: #696969;}#sk-container-id-1 label.sk-toggleable__label-arrow:hover:before {color: black;}#sk-container-id-1 div.sk-estimator:hover label.sk-toggleable__label-arrow:before {color: black;}#sk-container-id-1 div.sk-toggleable__content {max-height: 0;max-width: 0;overflow: hidden;text-align: left;background-color: #f0f8ff;}#sk-container-id-1 div.sk-toggleable__content pre {margin: 0.2em;color: black;border-radius: 0.25em;background-color: #f0f8ff;}#sk-container-id-1 input.sk-toggleable__control:checked~div.sk-toggleable__content {max-height: 200px;max-width: 100%;overflow: auto;}#sk-container-id-1 input.sk-toggleable__control:checked~label.sk-toggleable__label-arrow:before {content: \"▾\";}#sk-container-id-1 div.sk-estimator input.sk-toggleable__control:checked~label.sk-toggleable__label {background-color: #d4ebff;}#sk-container-id-1 div.sk-label input.sk-toggleable__control:checked~label.sk-toggleable__label {background-color: #d4ebff;}#sk-container-id-1 input.sk-hidden--visually {border: 0;clip: rect(1px 1px 1px 1px);clip: rect(1px, 1px, 1px, 1px);height: 1px;margin: -1px;overflow: hidden;padding: 0;position: absolute;width: 1px;}#sk-container-id-1 div.sk-estimator {font-family: monospace;background-color: #f0f8ff;border: 1px dotted black;border-radius: 0.25em;box-sizing: border-box;margin-bottom: 0.5em;}#sk-container-id-1 div.sk-estimator:hover {background-color: #d4ebff;}#sk-container-id-1 div.sk-parallel-item::after {content: \"\";width: 100%;border-bottom: 1px solid gray;flex-grow: 1;}#sk-container-id-1 div.sk-label:hover label.sk-toggleable__label {background-color: #d4ebff;}#sk-container-id-1 div.sk-serial::before {content: \"\";position: absolute;border-left: 1px solid gray;box-sizing: border-box;top: 0;bottom: 0;left: 50%;z-index: 0;}#sk-container-id-1 div.sk-serial {display: flex;flex-direction: column;align-items: center;background-color: white;padding-right: 0.2em;padding-left: 0.2em;position: relative;}#sk-container-id-1 div.sk-item {position: relative;z-index: 1;}#sk-container-id-1 div.sk-parallel {display: flex;align-items: stretch;justify-content: center;background-color: white;position: relative;}#sk-container-id-1 div.sk-item::before, #sk-container-id-1 div.sk-parallel-item::before {content: \"\";position: absolute;border-left: 1px solid gray;box-sizing: border-box;top: 0;bottom: 0;left: 50%;z-index: -1;}#sk-container-id-1 div.sk-parallel-item {display: flex;flex-direction: column;z-index: 1;position: relative;background-color: white;}#sk-container-id-1 div.sk-parallel-item:first-child::after {align-self: flex-end;width: 50%;}#sk-container-id-1 div.sk-parallel-item:last-child::after {align-self: flex-start;width: 50%;}#sk-container-id-1 div.sk-parallel-item:only-child::after {width: 0;}#sk-container-id-1 div.sk-dashed-wrapped {border: 1px dashed gray;margin: 0 0.4em 0.5em 0.4em;box-sizing: border-box;padding-bottom: 0.4em;background-color: white;}#sk-container-id-1 div.sk-label label {font-family: monospace;font-weight: bold;display: inline-block;line-height: 1.2em;}#sk-container-id-1 div.sk-label-container {text-align: center;}#sk-container-id-1 div.sk-container {/* jupyter's `normalize.less` sets `[hidden] { display: none; }` but bootstrap.min.css set `[hidden] { display: none !important; }` so we also need the `!important` here to be able to override the default hidden behavior on the sphinx rendered scikit-learn.org. See: https://github.com/scikit-learn/scikit-learn/issues/21755 */display: inline-block !important;position: relative;}#sk-container-id-1 div.sk-text-repr-fallback {display: none;}</style><div id=\"sk-container-id-1\" class=\"sk-top-container\"><div class=\"sk-text-repr-fallback\"><pre>ColumnTransformer(remainder=&#x27;passthrough&#x27;,\n",
       "                  transformers=[(&#x27;onehotencoder&#x27;,\n",
       "                                 OneHotEncoder(handle_unknown=&#x27;ignore&#x27;,\n",
       "                                               sparse=False),\n",
       "                                 &lt;sklearn.compose._column_transformer.make_column_selector object at 0x7fa3937bff70&gt;)])</pre><b>In a Jupyter environment, please rerun this cell to show the HTML representation or trust the notebook. <br />On GitHub, the HTML representation is unable to render, please try loading this page with nbviewer.org.</b></div><div class=\"sk-container\" hidden><div class=\"sk-item sk-dashed-wrapped\"><div class=\"sk-label-container\"><div class=\"sk-label sk-toggleable\"><input class=\"sk-toggleable__control sk-hidden--visually\" id=\"sk-estimator-id-1\" type=\"checkbox\" ><label for=\"sk-estimator-id-1\" class=\"sk-toggleable__label sk-toggleable__label-arrow\">ColumnTransformer</label><div class=\"sk-toggleable__content\"><pre>ColumnTransformer(remainder=&#x27;passthrough&#x27;,\n",
       "                  transformers=[(&#x27;onehotencoder&#x27;,\n",
       "                                 OneHotEncoder(handle_unknown=&#x27;ignore&#x27;,\n",
       "                                               sparse=False),\n",
       "                                 &lt;sklearn.compose._column_transformer.make_column_selector object at 0x7fa3937bff70&gt;)])</pre></div></div></div><div class=\"sk-parallel\"><div class=\"sk-parallel-item\"><div class=\"sk-item\"><div class=\"sk-label-container\"><div class=\"sk-label sk-toggleable\"><input class=\"sk-toggleable__control sk-hidden--visually\" id=\"sk-estimator-id-2\" type=\"checkbox\" ><label for=\"sk-estimator-id-2\" class=\"sk-toggleable__label sk-toggleable__label-arrow\">onehotencoder</label><div class=\"sk-toggleable__content\"><pre>&lt;sklearn.compose._column_transformer.make_column_selector object at 0x7fa3937bff70&gt;</pre></div></div></div><div class=\"sk-serial\"><div class=\"sk-item\"><div class=\"sk-estimator sk-toggleable\"><input class=\"sk-toggleable__control sk-hidden--visually\" id=\"sk-estimator-id-3\" type=\"checkbox\" ><label for=\"sk-estimator-id-3\" class=\"sk-toggleable__label sk-toggleable__label-arrow\">OneHotEncoder</label><div class=\"sk-toggleable__content\"><pre>OneHotEncoder(handle_unknown=&#x27;ignore&#x27;, sparse=False)</pre></div></div></div></div></div></div><div class=\"sk-parallel-item\"><div class=\"sk-item\"><div class=\"sk-label-container\"><div class=\"sk-label sk-toggleable\"><input class=\"sk-toggleable__control sk-hidden--visually\" id=\"sk-estimator-id-4\" type=\"checkbox\" ><label for=\"sk-estimator-id-4\" class=\"sk-toggleable__label sk-toggleable__label-arrow\">remainder</label><div class=\"sk-toggleable__content\"><pre></pre></div></div></div><div class=\"sk-serial\"><div class=\"sk-item\"><div class=\"sk-estimator sk-toggleable\"><input class=\"sk-toggleable__control sk-hidden--visually\" id=\"sk-estimator-id-5\" type=\"checkbox\" ><label for=\"sk-estimator-id-5\" class=\"sk-toggleable__label sk-toggleable__label-arrow\">passthrough</label><div class=\"sk-toggleable__content\"><pre>passthrough</pre></div></div></div></div></div></div></div></div></div></div>"
      ],
      "text/plain": [
       "ColumnTransformer(remainder='passthrough',\n",
       "                  transformers=[('onehotencoder',\n",
       "                                 OneHotEncoder(handle_unknown='ignore',\n",
       "                                               sparse=False),\n",
       "                                 <sklearn.compose._column_transformer.make_column_selector object at 0x7fa3937bff70>)])"
      ]
     },
     "execution_count": 9,
     "metadata": {},
     "output_type": "execute_result"
    }
   ],
   "source": [
    "preproc = pickle.load(open(\"../pickle/preproc_nottrans_notfit_.pkl\",\"rb\"))\n",
    "preproc\n"
   ]
  },
  {
   "cell_type": "markdown",
   "id": "51d55e3b",
   "metadata": {},
   "source": [
    "# Model TPOT vs1"
   ]
  },
  {
   "cell_type": "markdown",
   "id": "347215ca",
   "metadata": {},
   "source": [
    "## Exporting to a pickle file"
   ]
  },
  {
   "cell_type": "code",
   "execution_count": 17,
   "id": "403da644",
   "metadata": {},
   "outputs": [],
   "source": [
    "import os\n",
    "from tpot import TPOTRegressor\n",
    "from tpot import TPOTClassifier\n",
    "\n",
    "model_reg = TPOTRegressor(generations=5, population_size=20, cv=5,random_state=42, verbosity=2)\n",
    "model_classy = TPOTClassifier(generations=5, population_size=20, cv=5,random_state=42, verbosity=2)\n"
   ]
  },
  {
   "cell_type": "code",
   "execution_count": 18,
   "id": "737f49b3",
   "metadata": {
    "scrolled": false
   },
   "outputs": [
    {
     "data": {
      "text/html": [
       "<style>#sk-container-id-4 {color: black;}#sk-container-id-4 pre{padding: 0;}#sk-container-id-4 div.sk-toggleable {background-color: white;}#sk-container-id-4 label.sk-toggleable__label {cursor: pointer;display: block;width: 100%;margin-bottom: 0;padding: 0.3em;box-sizing: border-box;text-align: center;}#sk-container-id-4 label.sk-toggleable__label-arrow:before {content: \"▸\";float: left;margin-right: 0.25em;color: #696969;}#sk-container-id-4 label.sk-toggleable__label-arrow:hover:before {color: black;}#sk-container-id-4 div.sk-estimator:hover label.sk-toggleable__label-arrow:before {color: black;}#sk-container-id-4 div.sk-toggleable__content {max-height: 0;max-width: 0;overflow: hidden;text-align: left;background-color: #f0f8ff;}#sk-container-id-4 div.sk-toggleable__content pre {margin: 0.2em;color: black;border-radius: 0.25em;background-color: #f0f8ff;}#sk-container-id-4 input.sk-toggleable__control:checked~div.sk-toggleable__content {max-height: 200px;max-width: 100%;overflow: auto;}#sk-container-id-4 input.sk-toggleable__control:checked~label.sk-toggleable__label-arrow:before {content: \"▾\";}#sk-container-id-4 div.sk-estimator input.sk-toggleable__control:checked~label.sk-toggleable__label {background-color: #d4ebff;}#sk-container-id-4 div.sk-label input.sk-toggleable__control:checked~label.sk-toggleable__label {background-color: #d4ebff;}#sk-container-id-4 input.sk-hidden--visually {border: 0;clip: rect(1px 1px 1px 1px);clip: rect(1px, 1px, 1px, 1px);height: 1px;margin: -1px;overflow: hidden;padding: 0;position: absolute;width: 1px;}#sk-container-id-4 div.sk-estimator {font-family: monospace;background-color: #f0f8ff;border: 1px dotted black;border-radius: 0.25em;box-sizing: border-box;margin-bottom: 0.5em;}#sk-container-id-4 div.sk-estimator:hover {background-color: #d4ebff;}#sk-container-id-4 div.sk-parallel-item::after {content: \"\";width: 100%;border-bottom: 1px solid gray;flex-grow: 1;}#sk-container-id-4 div.sk-label:hover label.sk-toggleable__label {background-color: #d4ebff;}#sk-container-id-4 div.sk-serial::before {content: \"\";position: absolute;border-left: 1px solid gray;box-sizing: border-box;top: 0;bottom: 0;left: 50%;z-index: 0;}#sk-container-id-4 div.sk-serial {display: flex;flex-direction: column;align-items: center;background-color: white;padding-right: 0.2em;padding-left: 0.2em;position: relative;}#sk-container-id-4 div.sk-item {position: relative;z-index: 1;}#sk-container-id-4 div.sk-parallel {display: flex;align-items: stretch;justify-content: center;background-color: white;position: relative;}#sk-container-id-4 div.sk-item::before, #sk-container-id-4 div.sk-parallel-item::before {content: \"\";position: absolute;border-left: 1px solid gray;box-sizing: border-box;top: 0;bottom: 0;left: 50%;z-index: -1;}#sk-container-id-4 div.sk-parallel-item {display: flex;flex-direction: column;z-index: 1;position: relative;background-color: white;}#sk-container-id-4 div.sk-parallel-item:first-child::after {align-self: flex-end;width: 50%;}#sk-container-id-4 div.sk-parallel-item:last-child::after {align-self: flex-start;width: 50%;}#sk-container-id-4 div.sk-parallel-item:only-child::after {width: 0;}#sk-container-id-4 div.sk-dashed-wrapped {border: 1px dashed gray;margin: 0 0.4em 0.5em 0.4em;box-sizing: border-box;padding-bottom: 0.4em;background-color: white;}#sk-container-id-4 div.sk-label label {font-family: monospace;font-weight: bold;display: inline-block;line-height: 1.2em;}#sk-container-id-4 div.sk-label-container {text-align: center;}#sk-container-id-4 div.sk-container {/* jupyter's `normalize.less` sets `[hidden] { display: none; }` but bootstrap.min.css set `[hidden] { display: none !important; }` so we also need the `!important` here to be able to override the default hidden behavior on the sphinx rendered scikit-learn.org. See: https://github.com/scikit-learn/scikit-learn/issues/21755 */display: inline-block !important;position: relative;}#sk-container-id-4 div.sk-text-repr-fallback {display: none;}</style><div id=\"sk-container-id-4\" class=\"sk-top-container\"><div class=\"sk-text-repr-fallback\"><pre>Pipeline(steps=[(&#x27;columntransformer&#x27;,\n",
       "                 ColumnTransformer(remainder=&#x27;passthrough&#x27;,\n",
       "                                   transformers=[(&#x27;onehotencoder&#x27;,\n",
       "                                                  OneHotEncoder(handle_unknown=&#x27;ignore&#x27;,\n",
       "                                                                sparse=False),\n",
       "                                                  &lt;sklearn.compose._column_transformer.make_column_selector object at 0x7fa3937bff70&gt;)])),\n",
       "                (&#x27;tpotclassifier&#x27;,\n",
       "                 TPOTClassifier(generations=5, population_size=20,\n",
       "                                random_state=42, verbosity=2))])</pre><b>In a Jupyter environment, please rerun this cell to show the HTML representation or trust the notebook. <br />On GitHub, the HTML representation is unable to render, please try loading this page with nbviewer.org.</b></div><div class=\"sk-container\" hidden><div class=\"sk-item sk-dashed-wrapped\"><div class=\"sk-label-container\"><div class=\"sk-label sk-toggleable\"><input class=\"sk-toggleable__control sk-hidden--visually\" id=\"sk-estimator-id-20\" type=\"checkbox\" ><label for=\"sk-estimator-id-20\" class=\"sk-toggleable__label sk-toggleable__label-arrow\">Pipeline</label><div class=\"sk-toggleable__content\"><pre>Pipeline(steps=[(&#x27;columntransformer&#x27;,\n",
       "                 ColumnTransformer(remainder=&#x27;passthrough&#x27;,\n",
       "                                   transformers=[(&#x27;onehotencoder&#x27;,\n",
       "                                                  OneHotEncoder(handle_unknown=&#x27;ignore&#x27;,\n",
       "                                                                sparse=False),\n",
       "                                                  &lt;sklearn.compose._column_transformer.make_column_selector object at 0x7fa3937bff70&gt;)])),\n",
       "                (&#x27;tpotclassifier&#x27;,\n",
       "                 TPOTClassifier(generations=5, population_size=20,\n",
       "                                random_state=42, verbosity=2))])</pre></div></div></div><div class=\"sk-serial\"><div class=\"sk-item sk-dashed-wrapped\"><div class=\"sk-label-container\"><div class=\"sk-label sk-toggleable\"><input class=\"sk-toggleable__control sk-hidden--visually\" id=\"sk-estimator-id-21\" type=\"checkbox\" ><label for=\"sk-estimator-id-21\" class=\"sk-toggleable__label sk-toggleable__label-arrow\">columntransformer: ColumnTransformer</label><div class=\"sk-toggleable__content\"><pre>ColumnTransformer(remainder=&#x27;passthrough&#x27;,\n",
       "                  transformers=[(&#x27;onehotencoder&#x27;,\n",
       "                                 OneHotEncoder(handle_unknown=&#x27;ignore&#x27;,\n",
       "                                               sparse=False),\n",
       "                                 &lt;sklearn.compose._column_transformer.make_column_selector object at 0x7fa3937bff70&gt;)])</pre></div></div></div><div class=\"sk-parallel\"><div class=\"sk-parallel-item\"><div class=\"sk-item\"><div class=\"sk-label-container\"><div class=\"sk-label sk-toggleable\"><input class=\"sk-toggleable__control sk-hidden--visually\" id=\"sk-estimator-id-22\" type=\"checkbox\" ><label for=\"sk-estimator-id-22\" class=\"sk-toggleable__label sk-toggleable__label-arrow\">onehotencoder</label><div class=\"sk-toggleable__content\"><pre>&lt;sklearn.compose._column_transformer.make_column_selector object at 0x7fa3937bff70&gt;</pre></div></div></div><div class=\"sk-serial\"><div class=\"sk-item\"><div class=\"sk-estimator sk-toggleable\"><input class=\"sk-toggleable__control sk-hidden--visually\" id=\"sk-estimator-id-23\" type=\"checkbox\" ><label for=\"sk-estimator-id-23\" class=\"sk-toggleable__label sk-toggleable__label-arrow\">OneHotEncoder</label><div class=\"sk-toggleable__content\"><pre>OneHotEncoder(handle_unknown=&#x27;ignore&#x27;, sparse=False)</pre></div></div></div></div></div></div><div class=\"sk-parallel-item\"><div class=\"sk-item\"><div class=\"sk-label-container\"><div class=\"sk-label sk-toggleable\"><input class=\"sk-toggleable__control sk-hidden--visually\" id=\"sk-estimator-id-24\" type=\"checkbox\" ><label for=\"sk-estimator-id-24\" class=\"sk-toggleable__label sk-toggleable__label-arrow\">remainder</label><div class=\"sk-toggleable__content\"><pre>[&#x27;DistanceGroup&#x27;, &#x27;Month_sin&#x27;, &#x27;Month_cos&#x27;, &#x27;DayOfWeek_sin&#x27;, &#x27;DayOfWeek_cos&#x27;]</pre></div></div></div><div class=\"sk-serial\"><div class=\"sk-item\"><div class=\"sk-estimator sk-toggleable\"><input class=\"sk-toggleable__control sk-hidden--visually\" id=\"sk-estimator-id-25\" type=\"checkbox\" ><label for=\"sk-estimator-id-25\" class=\"sk-toggleable__label sk-toggleable__label-arrow\">passthrough</label><div class=\"sk-toggleable__content\"><pre>passthrough</pre></div></div></div></div></div></div></div></div><div class=\"sk-item\"><div class=\"sk-estimator sk-toggleable\"><input class=\"sk-toggleable__control sk-hidden--visually\" id=\"sk-estimator-id-26\" type=\"checkbox\" ><label for=\"sk-estimator-id-26\" class=\"sk-toggleable__label sk-toggleable__label-arrow\">TPOTClassifier</label><div class=\"sk-toggleable__content\"><pre>TPOTClassifier(generations=5, population_size=20, random_state=42, verbosity=2)</pre></div></div></div></div></div></div></div>"
      ],
      "text/plain": [
       "Pipeline(steps=[('columntransformer',\n",
       "                 ColumnTransformer(remainder='passthrough',\n",
       "                                   transformers=[('onehotencoder',\n",
       "                                                  OneHotEncoder(handle_unknown='ignore',\n",
       "                                                                sparse=False),\n",
       "                                                  <sklearn.compose._column_transformer.make_column_selector object at 0x7fa3937bff70>)])),\n",
       "                ('tpotclassifier',\n",
       "                 TPOTClassifier(generations=5, population_size=20,\n",
       "                                random_state=42, verbosity=2))])"
      ]
     },
     "execution_count": 18,
     "metadata": {},
     "output_type": "execute_result"
    }
   ],
   "source": [
    "# Add estimator\n",
    "\n",
    "# Create and Fit Pipeline\n",
    "model_pipeline = make_pipeline(preproc, model_classy)\n",
    "model_pipeline\n",
    "#model_pipeline.fit(X_train_trans,y_train)"
   ]
  },
  {
   "cell_type": "code",
   "execution_count": 10,
   "id": "fe73d869",
   "metadata": {},
   "outputs": [
    {
     "name": "stderr",
     "output_type": "stream",
     "text": [
      "/Users/ronjaboehmer/.pyenv/versions/3.10.6/envs/flightdelay/lib/python3.10/site-packages/IPython/core/magics/osm.py:417: UserWarning: using dhist requires you to install the `pickleshare` library.\n",
      "  self.shell.db['dhist'] = compress_dhist(dhist)[-100:]\n",
      "/Users/ronjaboehmer/.pyenv/versions/3.10.6/envs/flightdelay/lib/python3.10/site-packages/sklearn/preprocessing/_encoders.py:975: FutureWarning: `sparse` was renamed to `sparse_output` in version 1.2 and will be removed in 1.4. `sparse_output` is ignored unless you leave `sparse` to its default value.\n",
      "  warnings.warn(\n"
     ]
    },
    {
     "name": "stdout",
     "output_type": "stream",
     "text": [
      "/Users/ronjaboehmer/code/mariajoi/flightdelay/flightdelay/pickle\n"
     ]
    }
   ],
   "source": [
    "# %cd ../pickle\n",
    "# # Export Pipeline as pickle file\n",
    "\n",
    "# with open(\"fitted_model_pipeline_vs2.pkl\", \"wb\") as file:\n",
    "#     pickle.dump(model_pipeline, file)"
   ]
  },
  {
   "cell_type": "markdown",
   "id": "48e0df83",
   "metadata": {},
   "source": [
    "## Training and testing scores"
   ]
  },
  {
   "cell_type": "markdown",
   "id": "a7994db2",
   "metadata": {},
   "source": [
    "Using the balanced X_train and unbalanced y_train"
   ]
  },
  {
   "cell_type": "code",
   "execution_count": null,
   "id": "b0f2e8b0",
   "metadata": {
    "scrolled": true
   },
   "outputs": [],
   "source": [
    "cross_val_score(model_pipeline, X_train_trans, y_train, cv=5, scoring='recall').mean()"
   ]
  },
  {
   "cell_type": "code",
   "execution_count": 24,
   "id": "69010f68",
   "metadata": {},
   "outputs": [
    {
     "name": "stderr",
     "output_type": "stream",
     "text": [
      "/Users/ronjaboehmer/.pyenv/versions/3.10.6/envs/flightdelay/lib/python3.10/site-packages/sklearn/preprocessing/_encoders.py:975: FutureWarning: `sparse` was renamed to `sparse_output` in version 1.2 and will be removed in 1.4. `sparse_output` is ignored unless you leave `sparse` to its default value.\n",
      "  warnings.warn(\n"
     ]
    }
   ],
   "source": [
    "preproc.fit(X_train_trans)\n",
    "X_train_trans_t = pd.DataFrame(preproc.transform(X_train_trans))"
   ]
  },
  {
   "cell_type": "code",
   "execution_count": 25,
   "id": "3aa50c4f",
   "metadata": {},
   "outputs": [],
   "source": [
    "X_test_trans_t = pd.DataFrame(preproc.transform(X_test_trans))"
   ]
  },
  {
   "cell_type": "code",
   "execution_count": 26,
   "id": "c31094f9",
   "metadata": {},
   "outputs": [
    {
     "data": {
      "text/html": [
       "<style>#sk-container-id-5 {color: black;}#sk-container-id-5 pre{padding: 0;}#sk-container-id-5 div.sk-toggleable {background-color: white;}#sk-container-id-5 label.sk-toggleable__label {cursor: pointer;display: block;width: 100%;margin-bottom: 0;padding: 0.3em;box-sizing: border-box;text-align: center;}#sk-container-id-5 label.sk-toggleable__label-arrow:before {content: \"▸\";float: left;margin-right: 0.25em;color: #696969;}#sk-container-id-5 label.sk-toggleable__label-arrow:hover:before {color: black;}#sk-container-id-5 div.sk-estimator:hover label.sk-toggleable__label-arrow:before {color: black;}#sk-container-id-5 div.sk-toggleable__content {max-height: 0;max-width: 0;overflow: hidden;text-align: left;background-color: #f0f8ff;}#sk-container-id-5 div.sk-toggleable__content pre {margin: 0.2em;color: black;border-radius: 0.25em;background-color: #f0f8ff;}#sk-container-id-5 input.sk-toggleable__control:checked~div.sk-toggleable__content {max-height: 200px;max-width: 100%;overflow: auto;}#sk-container-id-5 input.sk-toggleable__control:checked~label.sk-toggleable__label-arrow:before {content: \"▾\";}#sk-container-id-5 div.sk-estimator input.sk-toggleable__control:checked~label.sk-toggleable__label {background-color: #d4ebff;}#sk-container-id-5 div.sk-label input.sk-toggleable__control:checked~label.sk-toggleable__label {background-color: #d4ebff;}#sk-container-id-5 input.sk-hidden--visually {border: 0;clip: rect(1px 1px 1px 1px);clip: rect(1px, 1px, 1px, 1px);height: 1px;margin: -1px;overflow: hidden;padding: 0;position: absolute;width: 1px;}#sk-container-id-5 div.sk-estimator {font-family: monospace;background-color: #f0f8ff;border: 1px dotted black;border-radius: 0.25em;box-sizing: border-box;margin-bottom: 0.5em;}#sk-container-id-5 div.sk-estimator:hover {background-color: #d4ebff;}#sk-container-id-5 div.sk-parallel-item::after {content: \"\";width: 100%;border-bottom: 1px solid gray;flex-grow: 1;}#sk-container-id-5 div.sk-label:hover label.sk-toggleable__label {background-color: #d4ebff;}#sk-container-id-5 div.sk-serial::before {content: \"\";position: absolute;border-left: 1px solid gray;box-sizing: border-box;top: 0;bottom: 0;left: 50%;z-index: 0;}#sk-container-id-5 div.sk-serial {display: flex;flex-direction: column;align-items: center;background-color: white;padding-right: 0.2em;padding-left: 0.2em;position: relative;}#sk-container-id-5 div.sk-item {position: relative;z-index: 1;}#sk-container-id-5 div.sk-parallel {display: flex;align-items: stretch;justify-content: center;background-color: white;position: relative;}#sk-container-id-5 div.sk-item::before, #sk-container-id-5 div.sk-parallel-item::before {content: \"\";position: absolute;border-left: 1px solid gray;box-sizing: border-box;top: 0;bottom: 0;left: 50%;z-index: -1;}#sk-container-id-5 div.sk-parallel-item {display: flex;flex-direction: column;z-index: 1;position: relative;background-color: white;}#sk-container-id-5 div.sk-parallel-item:first-child::after {align-self: flex-end;width: 50%;}#sk-container-id-5 div.sk-parallel-item:last-child::after {align-self: flex-start;width: 50%;}#sk-container-id-5 div.sk-parallel-item:only-child::after {width: 0;}#sk-container-id-5 div.sk-dashed-wrapped {border: 1px dashed gray;margin: 0 0.4em 0.5em 0.4em;box-sizing: border-box;padding-bottom: 0.4em;background-color: white;}#sk-container-id-5 div.sk-label label {font-family: monospace;font-weight: bold;display: inline-block;line-height: 1.2em;}#sk-container-id-5 div.sk-label-container {text-align: center;}#sk-container-id-5 div.sk-container {/* jupyter's `normalize.less` sets `[hidden] { display: none; }` but bootstrap.min.css set `[hidden] { display: none !important; }` so we also need the `!important` here to be able to override the default hidden behavior on the sphinx rendered scikit-learn.org. See: https://github.com/scikit-learn/scikit-learn/issues/21755 */display: inline-block !important;position: relative;}#sk-container-id-5 div.sk-text-repr-fallback {display: none;}</style><div id=\"sk-container-id-5\" class=\"sk-top-container\"><div class=\"sk-text-repr-fallback\"><pre>RandomForestClassifier(max_depth=5, random_state=42)</pre><b>In a Jupyter environment, please rerun this cell to show the HTML representation or trust the notebook. <br />On GitHub, the HTML representation is unable to render, please try loading this page with nbviewer.org.</b></div><div class=\"sk-container\" hidden><div class=\"sk-item\"><div class=\"sk-estimator sk-toggleable\"><input class=\"sk-toggleable__control sk-hidden--visually\" id=\"sk-estimator-id-23\" type=\"checkbox\" checked><label for=\"sk-estimator-id-23\" class=\"sk-toggleable__label sk-toggleable__label-arrow\">RandomForestClassifier</label><div class=\"sk-toggleable__content\"><pre>RandomForestClassifier(max_depth=5, random_state=42)</pre></div></div></div></div></div>"
      ],
      "text/plain": [
       "RandomForestClassifier(max_depth=5, random_state=42)"
      ]
     },
     "execution_count": 26,
     "metadata": {},
     "output_type": "execute_result"
    }
   ],
   "source": [
    "model.fit(X_train_trans_t, y_train)"
   ]
  },
  {
   "cell_type": "code",
   "execution_count": 28,
   "id": "548d4674",
   "metadata": {},
   "outputs": [],
   "source": [
    "y_pred = model.predict(X_test_trans_t)"
   ]
  },
  {
   "cell_type": "code",
   "execution_count": 65,
   "id": "1001c373",
   "metadata": {},
   "outputs": [],
   "source": [
    "y_pred_prob = model.predict_proba(X_test_trans_t)[:, 1]\n",
    "y_pred2 = (y_pred_prob > 0.62).astype(int)"
   ]
  },
  {
   "cell_type": "code",
   "execution_count": 66,
   "id": "029fc52a",
   "metadata": {},
   "outputs": [
    {
     "name": "stdout",
     "output_type": "stream",
     "text": [
      "accuracy: 0.760\n",
      "f1_score: 0.007\n",
      "recall: 0.429\n",
      "precision: 0.003\n",
      "Confusion Matrix:  [[2732  861]\n",
      " [   4    3]]\n"
     ]
    }
   ],
   "source": [
    "print('accuracy: %.3f' % accuracy_score(y_pred2, y_test))\n",
    "print('f1_score: %.3f' % f1_score(y_pred2, y_test, average='binary'))\n",
    "print('recall: %.3f' % recall_score(y_pred2, y_test,average='binary'))\n",
    "print('precision: %.3f' % precision_score(y_pred2, y_test,average='binary'))\n",
    "print(\"Confusion Matrix: \", confusion_matrix(y_pred2, y_test))\n"
   ]
  },
  {
   "cell_type": "code",
   "execution_count": 29,
   "id": "aafd07ba",
   "metadata": {},
   "outputs": [
    {
     "name": "stdout",
     "output_type": "stream",
     "text": [
      "accuracy: 0.454\n",
      "f1_score: 0.409\n",
      "recall: 0.276\n",
      "precision: 0.786\n",
      "Confusion Matrix:  [[ 957  185]\n",
      " [1779  679]]\n"
     ]
    }
   ],
   "source": [
    "print('accuracy: %.3f' % accuracy_score(y_pred, y_test))\n",
    "print('f1_score: %.3f' % f1_score(y_pred, y_test, average='binary'))\n",
    "print('recall: %.3f' % recall_score(y_pred, y_test,average='binary'))\n",
    "print('precision: %.3f' % precision_score(y_pred, y_test,average='binary'))\n",
    "print(\"Confusion Matrix: \", confusion_matrix(y_pred, y_test))\n"
   ]
  },
  {
   "cell_type": "markdown",
   "id": "b7afd1a9",
   "metadata": {},
   "source": [
    "## Gradient boosting"
   ]
  },
  {
   "cell_type": "code",
   "execution_count": 70,
   "id": "16de8957",
   "metadata": {},
   "outputs": [
    {
     "name": "stdout",
     "output_type": "stream",
     "text": [
      "accuracy: 0.519\n",
      "f1_score: 0.503\n",
      "recall: 0.562\n",
      "precision: 0.583\n",
      "Confusion Matrix:  [[1261  255]\n",
      " [1475  609]]\n"
     ]
    }
   ],
   "source": [
    "gb_clf = GradientBoostingClassifier(n_estimators=100, learning_rate=0.1, max_depth=1, random_state=42)\n",
    "gb_clf.fit(X_train_trans_t, y_train)\n",
    "y_preds_num = gb_clf.predict(X_test_trans_t)\n",
    "print('accuracy: %.3f' % accuracy_score(y_preds_num,y_test))\n",
    "print('f1_score: %.3f' % f1_score(y_preds_num,y_test, average='macro'))\n",
    "print('recall: %.3f' % recall_score(y_preds_num,y_test,average='macro'))\n",
    "print('precision: %.3f' % precision_score(y_preds_num,y_test,average='macro'))\n",
    "\n",
    "\n",
    "print(\"Confusion Matrix: \", confusion_matrix(y_preds_num,y_test))\n"
   ]
  },
  {
   "cell_type": "code",
   "execution_count": 77,
   "id": "b2caa3a3",
   "metadata": {},
   "outputs": [
    {
     "name": "stdout",
     "output_type": "stream",
     "text": [
      "GradientBoostingClassifier(max_depth=4, n_estimators=50, random_state=42,\n",
      "                           subsample=0.8)\n",
      "0.6916444186648063\n",
      "{'learning_rate': 0.1, 'max_depth': 4, 'n_estimators': 50, 'subsample': 0.8}\n",
      "make_scorer(recall_score, average=binary)\n"
     ]
    }
   ],
   "source": [
    "\n",
    "# Instantiate model\n",
    "gb_clf_grid = GradientBoostingClassifier(random_state=42)\n",
    "\n",
    "param_grid_subset = {\n",
    "    'n_estimators': [50, 100],\n",
    "    'learning_rate': [0.1],\n",
    "    'max_depth': [3, 4],\n",
    "    'subsample': [0.8, 1.0]\n",
    "}\n",
    "\n",
    "# Hyperparameter Grid\n",
    "grid_params = {'n_estimators': [50, 100, 200],                # Number of boosting stages to be run\n",
    "                'learning_rate': [0.01, 0.1, 0.2],             # Step size shrinkage to prevent overfitting\n",
    "                'max_depth': [3, 4, 5],                        # Maximum depth of the individual trees\n",
    "                'min_samples_split': [2, 5, 10],               # Minimum samples required to split an internal node\n",
    "                'min_samples_leaf': [1, 2, 4],                 # Minimum samples required to be at a leaf node\n",
    "                'subsample': [0.8, 0.9, 1.0],                  # Fraction of samples used for fitting the trees\n",
    "                'max_features': ['auto', 'sqrt', 'log2', None] # Number of features to consider for the best split\n",
    "                }\n",
    "scorers = {\n",
    "  'precision_score': make_scorer(precision_score),\n",
    "  'recall_score': make_scorer(recall_score),\n",
    "  'accuracy_score': make_scorer(accuracy_score),\n",
    "  'f1_score': make_scorer(f1_score)\n",
    "}\n",
    "\n",
    "# Instantiate Grid Search\n",
    "search_gb = GridSearchCV(\n",
    "    gb_clf_grid,\n",
    "    param_grid_subset,\n",
    "    scoring = \"recall\",\n",
    "    cv = 5,\n",
    "    n_jobs=-1 # parallelize computation\n",
    ")\n",
    "\n",
    "# Fit data to Grid Search\n",
    "search_gb.fit(X_train_trans_t, y_train)\n",
    "print(search_gb.best_estimator_)\n",
    "print(search_gb.best_score_)\n",
    "print(search_gb.best_params_)\n",
    "print(search_gb.scorer_)\n"
   ]
  },
  {
   "cell_type": "code",
   "execution_count": 79,
   "id": "146d2565",
   "metadata": {},
   "outputs": [
    {
     "name": "stdout",
     "output_type": "stream",
     "text": [
      "accuracy: 0.556\n",
      "f1_score: 0.528\n",
      "recall: 0.566\n",
      "precision: 0.590\n",
      "Confusion Matrix:  [[1433  297]\n",
      " [1303  567]]\n"
     ]
    }
   ],
   "source": [
    "gb_clf_grid = GradientBoostingClassifier(max_depth=4, n_estimators=50, random_state=42,\n",
    "                           subsample=0.8)\n",
    "gb_clf_grid.fit(X_train_trans_t, y_train)\n",
    "y_preds_num = gb_clf_grid.predict(X_test_trans_t)\n",
    "print('accuracy: %.3f' % accuracy_score(y_preds_num,y_test))\n",
    "print('f1_score: %.3f' % f1_score(y_preds_num,y_test, average='macro'))\n",
    "print('recall: %.3f' % recall_score(y_preds_num,y_test,average='macro'))\n",
    "print('precision: %.3f' % precision_score(y_preds_num,y_test,average='macro'))\n",
    "\n",
    "\n",
    "print(\"Confusion Matrix: \", confusion_matrix(y_preds_num,y_test))"
   ]
  },
  {
   "cell_type": "markdown",
   "id": "f9a69044",
   "metadata": {},
   "source": [
    "## Adaboost"
   ]
  },
  {
   "cell_type": "code",
   "execution_count": 74,
   "id": "fecfde50",
   "metadata": {},
   "outputs": [
    {
     "name": "stderr",
     "output_type": "stream",
     "text": [
      "/Users/ronjaboehmer/.pyenv/versions/3.10.6/envs/flightdelay/lib/python3.10/site-packages/sklearn/ensemble/_base.py:156: FutureWarning: `base_estimator` was renamed to `estimator` in version 1.2 and will be removed in 1.4.\n",
      "  warnings.warn(\n"
     ]
    },
    {
     "name": "stdout",
     "output_type": "stream",
     "text": [
      "accuracy: 0.566\n",
      "f1_score: 0.404\n",
      "recall: 0.301\n",
      "precision: 0.611\n",
      "Confusion Matrix:  [[1511  336]\n",
      " [1225  528]]\n"
     ]
    }
   ],
   "source": [
    "ada_clf = AdaBoostClassifier(base_estimator=DecisionTreeClassifier(max_depth=6, min_samples_leaf=10), learning_rate=0.1, random_state=42)\n",
    "ada_clf.fit(X_train_trans_t, y_train)\n",
    "y_preds_ada = ada_clf.predict(X_test_trans_t)\n",
    "\n",
    "print('accuracy: %.3f' % accuracy_score(y_preds_ada,y_test))\n",
    "print('f1_score: %.3f' % f1_score(y_preds_ada, y_test, average='binary'))\n",
    "print('recall: %.3f' % recall_score(y_preds_ada, y_test,average='binary'))\n",
    "print('precision: %.3f' % precision_score(y_preds_ada, y_test,average='binary'))\n",
    "\n",
    "\n",
    "print(\"Confusion Matrix: \", confusion_matrix(y_preds_ada,y_test))\n"
   ]
  },
  {
   "cell_type": "code",
   "execution_count": null,
   "id": "00627333",
   "metadata": {},
   "outputs": [],
   "source": []
  }
 ],
 "metadata": {
  "kernelspec": {
   "display_name": "Python 3 (ipykernel)",
   "language": "python",
   "name": "python3"
  },
  "language_info": {
   "codemirror_mode": {
    "name": "ipython",
    "version": 3
   },
   "file_extension": ".py",
   "mimetype": "text/x-python",
   "name": "python",
   "nbconvert_exporter": "python",
   "pygments_lexer": "ipython3",
   "version": "3.10.6"
  },
  "toc": {
   "base_numbering": 1,
   "nav_menu": {},
   "number_sections": true,
   "sideBar": true,
   "skip_h1_title": false,
   "title_cell": "Table of Contents",
   "title_sidebar": "Contents",
   "toc_cell": false,
   "toc_position": {},
   "toc_section_display": true,
   "toc_window_display": false
  }
 },
 "nbformat": 4,
 "nbformat_minor": 5
}
